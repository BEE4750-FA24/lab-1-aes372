{
  "cells": [
    {
      "cell_type": "markdown",
      "id": "7b030395-ff9d-488b-893a-3f2925d07a29",
      "metadata": {},
      "source": [
        "# BEE 4750 Lab 1: Julia and GitHub Basics\n",
        "\n",
        "**Name**: Ava Slade\n",
        "\n",
        "**ID**: aes372\n",
        "\n",
        "> **Due Date**\n",
        ">\n",
        "> Wednesday, 8/28/24, 9:00pm\n",
        "\n",
        "## Setup\n",
        "\n",
        "The following code should go at the top of most Julia scripts; it will\n",
        "load the local package environment and install any needed packages. You\n",
        "will see this often and shouldn’t need to touch it."
      ]
    },
    {
      "cell_type": "code",
      "execution_count": 37,
      "id": "2",
      "metadata": {},
      "outputs": [
        {
          "name": "stderr",
          "output_type": "stream",
          "text": [
            "\u001b[32m\u001b[1m  Activating\u001b[22m\u001b[39m project at `~/bee4750/lab-1-aes372`\n"
          ]
        }
      ],
      "source": [
        "import Pkg\n",
        "Pkg.activate(\".\")\n",
        "Pkg.instantiate()"
      ]
    },
    {
      "cell_type": "markdown",
      "id": "b0c0f53b-93bc-4baa-8b0e-bdb58e8ff961",
      "metadata": {},
      "source": [
        "This next cell loads packages which are required for the rest of the\n",
        "code evaluation. In this case, we only need to load the `Plots.jl`\n",
        "plotting package, but you will see others over the course of the\n",
        "semester (and can add more if desired; just make sure that you’ve [added\n",
        "the new packages to the\n",
        "environment](https://viveks.me/environmental-systems-analysis/tutorials/julia-basics.html#package-management)).\n",
        "Standard Julia practice is to load all of the needed packages at the top\n",
        "of the file.\n",
        "\n",
        "> **Warning**\n",
        ">\n",
        "> Loading packages can take a while, especially the first time! Julia\n",
        "> tries to precompile all of the packages you’re using so repeat use is\n",
        "> faster, but this can be quite slow at first."
      ]
    },
    {
      "cell_type": "code",
      "execution_count": 38,
      "id": "4",
      "metadata": {},
      "outputs": [],
      "source": [
        "using Plots"
      ]
    },
    {
      "cell_type": "markdown",
      "id": "6d2bc421-d992-4864-a390-fd6d7820f6c0",
      "metadata": {},
      "source": [
        "## Introduction\n",
        "\n",
        "### Julia\n",
        "\n",
        "Julia is an up-and-coming language, originally developed for scientific\n",
        "programming. While learning a new programming language always has its\n",
        "hiccups, the good news is that if you’ve programmed in a high-level\n",
        "language such as Python or MATLAB, most Julia concepts should look\n",
        "familiar.\n",
        "\n",
        "If you have not successfully set up Julia, follow the instructions in\n",
        "[Tools\n",
        "Setup](https://viveks.me/environmental-systems-analysis/setup.html)\n",
        "and/or ask for help.\n",
        "\n",
        "You can use other editors for this course, but our recommendation is\n",
        "[Visual Studio Code](https://code.visualstudio.com/) with the [Julia\n",
        "extension](https://marketplace.visualstudio.com/items?itemName=julialang.language-julia),\n",
        "which will make life a *lot* simpler! You should have set this up by\n",
        "following the [Tools\n",
        "Setup](https://viveks.me/environmental-systems-analysis/setup.html)\n",
        "instructions, but if not, do so now and/or ask for help.\n",
        "\n",
        "### Jupyter Notebooks\n",
        "\n",
        "Jupyter notebooks integrate text and equations in Markdown with Julia\n",
        "(or Python, or R) code. To do this, Jupyter notebooks consist of two\n",
        "types of “cells”: code cells and Markdown (text) cells.\n",
        "\n",
        "Click once on this section of text. A box will appear around this text\n",
        "(and some areas above/below it) - all of that is within this cell.\n",
        "\n",
        "Markdown is a text markup framework for formatting language that makes\n",
        "things look pretty when viewed across different platforms: web browsers,\n",
        "notebooks, and so forth. Text written in Markdown can also include\n",
        "hyperlinks, LaTeX equations, section headers, and images, among other\n",
        "features (most of [the course\n",
        "website](https://viveks.me/climate-risk-analysis) and the lecture notes\n",
        "were all written in Markdown!). [Here is a basic Markdown cheat\n",
        "sheet](https://www.markdownguide.org/cheat-sheet/).\n",
        "\n",
        "What you are looking at right now is the formatted text after the\n",
        "Markdown is processed. To see the raw Markdown, do one of:\n",
        "\n",
        "-   press `Enter` while that cell is selected, or\n",
        "-   double-click on that cell.\n",
        "\n",
        "------------------------------------------------------------------------\n",
        "\n",
        "A couple of the features you will see in this Markdown cell:\n",
        "\n",
        "-   The `---` command creates a horizontal line. This is also nice for\n",
        "    separating sections.\n",
        "-   Backticks (`` `...` ``) can be used to format and highlight code,\n",
        "    keystrokes, etc.\n",
        "-   The `#` sign is used to create a new section header; two `#` signs\n",
        "    (`##`) is used to create a new subsection header; `###` creates a\n",
        "    subsubsection, and so on.\n",
        "-   You can create a bulleted list by using the asterisk `*` or a dash\n",
        "    `-` and a space.\n",
        "-   You can create regular text by just typing as usual.\n",
        "-   You can create **bold-faced text** by wrapping it with two asterisks\n",
        "    on both sides.\n",
        "-   You can create *italicized text* by wrapping it with a single\n",
        "    asterisk on both sides.\n",
        "-   To create a new paragraph, you must include a blank line between the\n",
        "    old and new paragraphs.\n",
        "\n",
        "At this point you might be wondering how to turn this cell back into the\n",
        "fully formatted Markdown text instead of the raw Markdown you’re\n",
        "probably still looking at. You have a couple of options, depending on\n",
        "your platform, but the most consistent is to type `Shift + Enter` to\n",
        "**execute** the cell (this is also how to run code, but more on that\n",
        "later).\n",
        "\n",
        "Additionally, you will frequently need to create new cells in your\n",
        "Jupyter notebooks. How you do this will depend on how you interact with\n",
        "the notebook, but try to figure this out now.\n",
        "\n",
        "One tip is to think carefully about what bits of code should be in the\n",
        "same cell, as you typically only see output from the last command in a\n",
        "cell. For example, compare the following:"
      ]
    },
    {
      "cell_type": "code",
      "execution_count": 39,
      "id": "6",
      "metadata": {},
      "outputs": [
        {
          "data": {
            "text/plain": [
              "-0.9589242746631385"
            ]
          },
          "metadata": {},
          "output_type": "display_data"
        }
      ],
      "source": [
        "x = 5\n",
        "sin(x)"
      ]
    },
    {
      "cell_type": "markdown",
      "id": "0b56a2f1-81e8-4426-b62a-95cfc3933b92",
      "metadata": {},
      "source": [
        "with"
      ]
    },
    {
      "cell_type": "code",
      "execution_count": 40,
      "id": "8",
      "metadata": {},
      "outputs": [
        {
          "data": {
            "text/plain": [
              "5"
            ]
          },
          "metadata": {},
          "output_type": "display_data"
        }
      ],
      "source": [
        "x = 5"
      ]
    },
    {
      "cell_type": "code",
      "execution_count": 41,
      "id": "10",
      "metadata": {},
      "outputs": [
        {
          "data": {
            "text/plain": [
              "-0.9589242746631385"
            ]
          },
          "metadata": {},
          "output_type": "display_data"
        }
      ],
      "source": [
        "sin(x)"
      ]
    },
    {
      "cell_type": "markdown",
      "id": "474d541d-93e6-47e1-874f-80abd6c9d7cc",
      "metadata": {},
      "source": [
        "In Julia, you can also suppress the output of a command with a\n",
        "semi-colon:"
      ]
    },
    {
      "cell_type": "code",
      "execution_count": 42,
      "id": "12",
      "metadata": {},
      "outputs": [],
      "source": [
        "sin(x);"
      ]
    },
    {
      "cell_type": "markdown",
      "id": "e5950d08-d04e-4fc7-bed8-33e0ee9a1909",
      "metadata": {},
      "source": [
        "which can help if you want to split some code out for clarity or to\n",
        "insert some text prior to it, but don’t want to clutter the notebook\n",
        "with its output.\n",
        "\n",
        "For code cells, to execute the commands within the cell, we also press\n",
        "`Shift+Enter`.\n",
        "\n",
        "Finally, **make sure that you evaluate all of the code cells in order\n",
        "before submitting**. One bad outcome with notebooks occurs when cells\n",
        "are evaluated out of order, so fixed bugs and edits in previous cells do\n",
        "not get a chance to propagate down. You can do this with the `Run All`\n",
        "command in whichever interface you’re using to edit your notebook.\n",
        "\n",
        "### Julia Basics\n",
        "\n",
        "There are many tutorials and references for Julia, including a [basics\n",
        "overview on the class website](../tutorials/julia-basics.html). Please\n",
        "feel free to reference these as you work through any part of the course.\n",
        "\n",
        "### Formatting Math\n",
        "\n",
        "It will often be helpful to include nicely-formatted mathematics in a\n",
        "notebook. Markdown accomodates this using LaTeX syntax. A LaTeX\n",
        "cheatsheet is available on the class website, and many other guides\n",
        "exist online.\n",
        "\n",
        "Below is an example of a formatted equation: $$x = 5.$$\n",
        "\n",
        "### Looking For Help\n",
        "\n",
        "There is no shame in using Google, or other resources, for help when\n",
        "programming. There are many, many times when you can’t quite get the\n",
        "syntax to work, can’t quite figure out the right package or command to\n",
        "use, or are feeling too lazy or overwhelmed (I’m not judging either of\n",
        "those!) to dig through the documentation. Some good resources include:\n",
        "\n",
        "-   [Stack Overflow](https://stackoverflow.com/) is a treasure trove of\n",
        "    answers;\n",
        "-   The [official Julia forum](https://discourse.julialang.org/) and the\n",
        "    [Julia Subreddit](https://www.reddit.com/r/Julia/) are also very\n",
        "    useful.\n",
        "\n",
        "You are also highly encouraged to post on [Ed\n",
        "Discussion](https://us.edstem.org), though getting a response might be\n",
        "less immediate. Just be mindful that to get good answers, [you have to\n",
        "help people help you](https://stackoverflow.com/help/how-to-ask), and\n",
        "**make sure to give credit to any resources that were helpful**!\n",
        "\n",
        "## Exercises (3 points)\n",
        "\n",
        "Use your understanding of Julia syntax and the GitHub workflow to\n",
        "complete the following (hopefully short) exercises. Convert your\n",
        "completed lab assignment to a PDF and submit it to the Gradescope\n",
        "Assignment “Lab 1”.\n",
        "\n",
        "**Remember to**:\n",
        "\n",
        "-   Include a (succint but clear) writeup of the core idea underlying\n",
        "    your code, through some combination of equations, text, and\n",
        "    algorithms. As you are not required to submit your code, we will not\n",
        "    be looking at it in detail, and instead will rely on those writeups\n",
        "    to assess whether your approach is correct.\n",
        "-   If using the notebook, evaluate all of your code cells, in order\n",
        "    (using a `Run All` command). This will make sure all output is\n",
        "    visible and that the code cells were evaluated in the correct order.\n",
        "-   Tag each of the problems when you submit to Gradescope; a 10%\n",
        "    penalty will be deducted if this is not done.\n",
        "\n",
        "### Computing a Dot Product\n",
        "\n",
        "Given two numeric arrays `x` and `y`, write a function to compute their\n",
        "dot product if they have equal length, and return an error if not (this\n",
        "is useful for debugging!). Use the following code as a starting point."
      ]
    },
    {
      "cell_type": "markdown",
      "id": "634d6e21",
      "metadata": {},
      "source": [
        "To write the dot product function, I first inserted a test condition to check that the input vectors are of equal length. If this condition was true the dot product was calculated by taking the sum of the input vectors matrix multiplied together. If the test condition was false, an error is returned."
      ]
    },
    {
      "cell_type": "code",
      "execution_count": 43,
      "id": "14",
      "metadata": {},
      "outputs": [
        {
          "data": {
            "text/plain": [
              "dot_product (generic function with 1 method)"
            ]
          },
          "metadata": {},
          "output_type": "display_data"
        }
      ],
      "source": [
        "\n",
        "function dot_product(x, y)\n",
        "    if length(x) == length(y) # insert test condition for equal lengths\n",
        "        # compute and return dot product\n",
        "        sum(x .* y)\n",
        "    else\n",
        "        throw(DimensionMismatch(\"length of x not equal to length of y\"))\n",
        "    end\n",
        "end"
      ]
    },
    {
      "cell_type": "markdown",
      "id": "e0ce47a6-a5e8-4cd8-a776-5b04adfa6330",
      "metadata": {},
      "source": [
        "Here are some tests to make sure your code works as intended. Tests like\n",
        "these are useful to make sure everything works as intended. One reason\n",
        "to split your code up into functions is that it makes it straightforward\n",
        "to write tests to make sure each piece of your code works, which makes\n",
        "it easier to identify where errors are occuring."
      ]
    },
    {
      "cell_type": "code",
      "execution_count": 44,
      "id": "16",
      "metadata": {},
      "outputs": [
        {
          "data": {
            "text/plain": [
              "32"
            ]
          },
          "metadata": {},
          "output_type": "display_data"
        }
      ],
      "source": [
        "dot_product([1 2 3], [4 5 6])"
      ]
    },
    {
      "cell_type": "markdown",
      "id": "37f85171-25e8-4513-b57c-af25ff4378e7",
      "metadata": {},
      "source": [
        "If you know the value you should get, you can write a more formal test\n",
        "using the `@assert` macro, which is a good way to “automate” checking\n",
        "(since you get an obvious error if the code doesn’t work as desired):"
      ]
    },
    {
      "cell_type": "code",
      "execution_count": 45,
      "id": "18",
      "metadata": {},
      "outputs": [],
      "source": [
        "@assert dot_product([1 2 3], [4 5 6]) == 32"
      ]
    },
    {
      "cell_type": "markdown",
      "id": "65ccdcd8-449e-4f0c-8f4e-7953ea267f8d",
      "metadata": {},
      "source": [
        "Let’s also make sure we get an error when the dimensions of the two\n",
        "vectors don’t match:"
      ]
    },
    {
      "cell_type": "code",
      "execution_count": 46,
      "id": "20",
      "metadata": {},
      "outputs": [
        {
          "ename": "DimensionMismatch",
          "evalue": "DimensionMismatch: length of x not equal to length of y",
          "output_type": "error",
          "traceback": [
            "DimensionMismatch: length of x not equal to length of y\n",
            "\n",
            "Stacktrace:\n",
            " [1] dot_product(x::Matrix{Int64}, y::Matrix{Int64})\n",
            "   @ Main ~/bee4750/lab-1-aes372/jl_notebook_cell_df34fa98e69747e1a8f8a730347b8e2f_X15sZmlsZQ==.jl:7\n",
            " [2] top-level scope\n",
            "   @ ~/bee4750/lab-1-aes372/jl_notebook_cell_df34fa98e69747e1a8f8a730347b8e2f_X24sZmlsZQ==.jl:1"
          ]
        }
      ],
      "source": [
        "dot_product([1 2 3], [4 5])"
      ]
    },
    {
      "cell_type": "markdown",
      "id": "8c069a05-159a-43b4-aa3f-d1fec9a2f727",
      "metadata": {},
      "source": [
        "### Making a Plot\n",
        "\n",
        "Write a function to compute the square of an integer `x`. Evaluate this\n",
        "function for integers between $x=-5$ and $x=5$ and make a plot of the\n",
        "squared values (you can find a quick guide to making various types of\n",
        "plots\n",
        "[here](https://viveks.me/environmental-systems-analysis/tutorials/julia-plots.html)).\n",
        "Make sure to label your axes."
      ]
    },
    {
      "cell_type": "markdown",
      "id": "64124cf2",
      "metadata": {},
      "source": [
        "The square of an integer x was calculated with the equation x * x. This function was used in a for loop, which looped through the specified range of integers and calculated the square of each integer, storing each value in a vector. The two vectors (the range of integers and their squares) were then plotted using the 'plot()' function. "
      ]
    },
    {
      "cell_type": "code",
      "execution_count": 47,
      "id": "22",
      "metadata": {},
      "outputs": [
        {
          "data": {
            "image/png": "[encoded data removed]",
            "image/svg+xml": [
              "<?xml version=\"1.0\" encoding=\"utf-8\"?>\n",
              "<svg xmlns=\"http://www.w3.org/2000/svg\" xmlns:xlink=\"http://www.w3.org/1999/xlink\" width=\"600\" height=\"400\" viewBox=\"0 0 2400 1600\">\n",
              "<defs>\n",
              "  <clipPath id=\"clip410\">\n",
              "    <rect x=\"0\" y=\"0\" width=\"2400\" height=\"1600\"/>\n",
              "  </clipPath>\n",
              "</defs>\n",
              "<path clip-path=\"url(#clip410)\" d=\"M0 1600 L2400 1600 L2400 8.88178e-14 L0 8.88178e-14  Z\" fill=\"#ffffff\" fill-rule=\"evenodd\" fill-opacity=\"1\"/>\n",
              "<defs>\n",
              "  <clipPath id=\"clip411\">\n",
              "    <rect x=\"480\" y=\"0\" width=\"1681\" height=\"1600\"/>\n",
              "  </clipPath>\n",
              "</defs>\n",
              "<path clip-path=\"url(#clip410)\" d=\"M203.964 1423.18 L2352.76 1423.18 L2352.76 47.2441 L203.964 47.2441  Z\" fill=\"#ffffff\" fill-rule=\"evenodd\" fill-opacity=\"1\"/>\n",
              "<defs>\n",
              "  <clipPath id=\"clip412\">\n",
              "    <rect x=\"203\" y=\"47\" width=\"2150\" height=\"1377\"/>\n",
              "  </clipPath>\n",
              "</defs>\n",
              "<polyline clip-path=\"url(#clip412)\" style=\"stroke:#000000; stroke-linecap:round; stroke-linejoin:round; stroke-width:2; stroke-opacity:0.1; fill:none\" points=\"467.495,1423.18 467.495,47.2441 \"/>\n",
              "<polyline clip-path=\"url(#clip412)\" style=\"stroke:#000000; stroke-linecap:round; stroke-linejoin:round; stroke-width:2; stroke-opacity:0.1; fill:none\" points=\"872.927,1423.18 872.927,47.2441 \"/>\n",
              "<polyline clip-path=\"url(#clip412)\" style=\"stroke:#000000; stroke-linecap:round; stroke-linejoin:round; stroke-width:2; stroke-opacity:0.1; fill:none\" points=\"1278.36,1423.18 1278.36,47.2441 \"/>\n",
              "<polyline clip-path=\"url(#clip412)\" style=\"stroke:#000000; stroke-linecap:round; stroke-linejoin:round; stroke-width:2; stroke-opacity:0.1; fill:none\" points=\"1683.79,1423.18 1683.79,47.2441 \"/>\n",
              "<polyline clip-path=\"url(#clip412)\" style=\"stroke:#000000; stroke-linecap:round; stroke-linejoin:round; stroke-width:2; stroke-opacity:0.1; fill:none\" points=\"2089.22,1423.18 2089.22,47.2441 \"/>\n",
              "<polyline clip-path=\"url(#clip410)\" style=\"stroke:#000000; stroke-linecap:round; stroke-linejoin:round; stroke-width:4; stroke-opacity:1; fill:none\" points=\"203.964,1423.18 2352.76,1423.18 \"/>\n",
              "<polyline clip-path=\"url(#clip410)\" style=\"stroke:#000000; stroke-linecap:round; stroke-linejoin:round; stroke-width:4; stroke-opacity:1; fill:none\" points=\"467.495,1423.18 467.495,1404.28 \"/>\n",
              "<polyline clip-path=\"url(#clip410)\" style=\"stroke:#000000; stroke-linecap:round; stroke-linejoin:round; stroke-width:4; stroke-opacity:1; fill:none\" points=\"872.927,1423.18 872.927,1404.28 \"/>\n",
              "<polyline clip-path=\"url(#clip410)\" style=\"stroke:#000000; stroke-linecap:round; stroke-linejoin:round; stroke-width:4; stroke-opacity:1; fill:none\" points=\"1278.36,1423.18 1278.36,1404.28 \"/>\n",
              "<polyline clip-path=\"url(#clip410)\" style=\"stroke:#000000; stroke-linecap:round; stroke-linejoin:round; stroke-width:4; stroke-opacity:1; fill:none\" points=\"1683.79,1423.18 1683.79,1404.28 \"/>\n",
              "<polyline clip-path=\"url(#clip410)\" style=\"stroke:#000000; stroke-linecap:round; stroke-linejoin:round; stroke-width:4; stroke-opacity:1; fill:none\" points=\"2089.22,1423.18 2089.22,1404.28 \"/>\n",
              "<path clip-path=\"url(#clip410)\" d=\"M436.395 1468.75 L466.071 1468.75 L466.071 1472.69 L436.395 1472.69 L436.395 1468.75 Z\" fill=\"#000000\" fill-rule=\"nonzero\" fill-opacity=\"1\" /><path clip-path=\"url(#clip410)\" d=\"M489.011 1455.09 L477.205 1473.54 L489.011 1473.54 L489.011 1455.09 M487.784 1451.02 L493.664 1451.02 L493.664 1473.54 L498.594 1473.54 L498.594 1477.43 L493.664 1477.43 L493.664 1485.58 L489.011 1485.58 L489.011 1477.43 L473.409 1477.43 L473.409 1472.92 L487.784 1451.02 Z\" fill=\"#000000\" fill-rule=\"nonzero\" fill-opacity=\"1\" /><path clip-path=\"url(#clip410)\" d=\"M842.87 1468.75 L872.545 1468.75 L872.545 1472.69 L842.87 1472.69 L842.87 1468.75 Z\" fill=\"#000000\" fill-rule=\"nonzero\" fill-opacity=\"1\" /><path clip-path=\"url(#clip410)\" d=\"M886.666 1481.64 L902.985 1481.64 L902.985 1485.58 L881.041 1485.58 L881.041 1481.64 Q883.703 1478.89 888.286 1474.26 Q892.892 1469.61 894.073 1468.27 Q896.318 1465.74 897.198 1464.01 Q898.101 1462.25 898.101 1460.56 Q898.101 1457.8 896.156 1456.07 Q894.235 1454.33 891.133 1454.33 Q888.934 1454.33 886.48 1455.09 Q884.05 1455.86 881.272 1457.41 L881.272 1452.69 Q884.096 1451.55 886.55 1450.97 Q889.004 1450.39 891.041 1450.39 Q896.411 1450.39 899.605 1453.08 Q902.8 1455.77 902.8 1460.26 Q902.8 1462.39 901.99 1464.31 Q901.203 1466.2 899.096 1468.8 Q898.517 1469.47 895.416 1472.69 Q892.314 1475.88 886.666 1481.64 Z\" fill=\"#000000\" fill-rule=\"nonzero\" fill-opacity=\"1\" /><path clip-path=\"url(#clip410)\" d=\"M1278.36 1454.1 Q1274.75 1454.1 1272.92 1457.66 Q1271.11 1461.2 1271.11 1468.33 Q1271.11 1475.44 1272.92 1479.01 Q1274.75 1482.55 1278.36 1482.55 Q1281.99 1482.55 1283.8 1479.01 Q1285.63 1475.44 1285.63 1468.33 Q1285.63 1461.2 1283.8 1457.66 Q1281.99 1454.1 1278.36 1454.1 M1278.36 1450.39 Q1284.17 1450.39 1287.23 1455 Q1290.3 1459.58 1290.3 1468.33 Q1290.3 1477.06 1287.23 1481.67 Q1284.17 1486.25 1278.36 1486.25 Q1272.55 1486.25 1269.47 1481.67 Q1266.42 1477.06 1266.42 1468.33 Q1266.42 1459.58 1269.47 1455 Q1272.55 1450.39 1278.36 1450.39 Z\" fill=\"#000000\" fill-rule=\"nonzero\" fill-opacity=\"1\" /><path clip-path=\"url(#clip410)\" d=\"M1678.45 1481.64 L1694.76 1481.64 L1694.76 1485.58 L1672.82 1485.58 L1672.82 1481.64 Q1675.48 1478.89 1680.07 1474.26 Q1684.67 1469.61 1685.85 1468.27 Q1688.1 1465.74 1688.98 1464.01 Q1689.88 1462.25 1689.88 1460.56 Q1689.88 1457.8 1687.94 1456.07 Q1686.01 1454.33 1682.91 1454.33 Q1680.71 1454.33 1678.26 1455.09 Q1675.83 1455.86 1673.05 1457.41 L1673.05 1452.69 Q1675.88 1451.55 1678.33 1450.97 Q1680.78 1450.39 1682.82 1450.39 Q1688.19 1450.39 1691.38 1453.08 Q1694.58 1455.77 1694.58 1460.26 Q1694.58 1462.39 1693.77 1464.31 Q1692.98 1466.2 1690.88 1468.8 Q1690.3 1469.47 1687.2 1472.69 Q1684.09 1475.88 1678.45 1481.64 Z\" fill=\"#000000\" fill-rule=\"nonzero\" fill-opacity=\"1\" /><path clip-path=\"url(#clip410)\" d=\"M2092.23 1455.09 L2080.43 1473.54 L2092.23 1473.54 L2092.23 1455.09 M2091.01 1451.02 L2096.89 1451.02 L2096.89 1473.54 L2101.82 1473.54 L2101.82 1477.43 L2096.89 1477.43 L2096.89 1485.58 L2092.23 1485.58 L2092.23 1477.43 L2076.63 1477.43 L2076.63 1472.92 L2091.01 1451.02 Z\" fill=\"#000000\" fill-rule=\"nonzero\" fill-opacity=\"1\" /><path clip-path=\"url(#clip410)\" d=\"M1164.32 1520.52 L1170.75 1520.52 L1170.75 1568.04 L1164.32 1568.04 L1164.32 1520.52 Z\" fill=\"#000000\" fill-rule=\"nonzero\" fill-opacity=\"1\" /><path clip-path=\"url(#clip410)\" d=\"M1212.92 1546.53 L1212.92 1568.04 L1207.06 1568.04 L1207.06 1546.72 Q1207.06 1541.66 1205.09 1539.14 Q1203.12 1536.63 1199.17 1536.63 Q1194.43 1536.63 1191.69 1539.65 Q1188.95 1542.68 1188.95 1547.9 L1188.95 1568.04 L1183.07 1568.04 L1183.07 1532.4 L1188.95 1532.4 L1188.95 1537.93 Q1191.05 1534.72 1193.89 1533.13 Q1196.75 1531.54 1200.48 1531.54 Q1206.62 1531.54 1209.77 1535.36 Q1212.92 1539.14 1212.92 1546.53 Z\" fill=\"#000000\" fill-rule=\"nonzero\" fill-opacity=\"1\" /><path clip-path=\"url(#clip410)\" d=\"M1230.39 1522.27 L1230.39 1532.4 L1242.46 1532.4 L1242.46 1536.95 L1230.39 1536.95 L1230.39 1556.3 Q1230.39 1560.66 1231.57 1561.9 Q1232.78 1563.14 1236.44 1563.14 L1242.46 1563.14 L1242.46 1568.04 L1236.44 1568.04 Q1229.66 1568.04 1227.08 1565.53 Q1224.51 1562.98 1224.51 1556.3 L1224.51 1536.95 L1220.21 1536.95 L1220.21 1532.4 L1224.51 1532.4 L1224.51 1522.27 L1230.39 1522.27 Z\" fill=\"#000000\" fill-rule=\"nonzero\" fill-opacity=\"1\" /><path clip-path=\"url(#clip410)\" d=\"M1280.65 1548.76 L1280.65 1551.62 L1253.72 1551.62 Q1254.11 1557.67 1257.35 1560.85 Q1260.63 1564 1266.46 1564 Q1269.83 1564 1272.98 1563.17 Q1276.16 1562.35 1279.28 1560.69 L1279.28 1566.23 Q1276.13 1567.57 1272.82 1568.27 Q1269.51 1568.97 1266.11 1568.97 Q1257.58 1568.97 1252.58 1564 Q1247.61 1559.04 1247.61 1550.57 Q1247.61 1541.82 1252.32 1536.69 Q1257.07 1531.54 1265.09 1531.54 Q1272.28 1531.54 1276.45 1536.18 Q1280.65 1540.8 1280.65 1548.76 M1274.79 1547.04 Q1274.73 1542.23 1272.09 1539.37 Q1269.48 1536.5 1265.15 1536.5 Q1260.25 1536.5 1257.29 1539.27 Q1254.36 1542.04 1253.92 1547.07 L1274.79 1547.04 Z\" fill=\"#000000\" fill-rule=\"nonzero\" fill-opacity=\"1\" /><path clip-path=\"url(#clip410)\" d=\"M1313.72 1549.81 Q1313.72 1543.44 1311.08 1539.94 Q1308.47 1536.44 1303.73 1536.44 Q1299.02 1536.44 1296.37 1539.94 Q1293.76 1543.44 1293.76 1549.81 Q1293.76 1556.14 1296.37 1559.64 Q1299.02 1563.14 1303.73 1563.14 Q1308.47 1563.14 1311.08 1559.64 Q1313.72 1556.14 1313.72 1549.81 M1319.58 1563.62 Q1319.58 1572.72 1315.54 1577.15 Q1311.49 1581.6 1303.15 1581.6 Q1300.07 1581.6 1297.33 1581.13 Q1294.59 1580.68 1292.01 1579.72 L1292.01 1574.03 Q1294.59 1575.43 1297.11 1576.1 Q1299.62 1576.76 1302.23 1576.76 Q1307.99 1576.76 1310.86 1573.74 Q1313.72 1570.75 1313.72 1564.67 L1313.72 1561.77 Q1311.91 1564.92 1309.07 1566.48 Q1306.24 1568.04 1302.29 1568.04 Q1295.74 1568.04 1291.73 1563.05 Q1287.72 1558.05 1287.72 1549.81 Q1287.72 1541.53 1291.73 1536.53 Q1295.74 1531.54 1302.29 1531.54 Q1306.24 1531.54 1309.07 1533.1 Q1311.91 1534.66 1313.72 1537.81 L1313.72 1532.4 L1319.58 1532.4 L1319.58 1563.62 Z\" fill=\"#000000\" fill-rule=\"nonzero\" fill-opacity=\"1\" /><path clip-path=\"url(#clip410)\" d=\"M1362.13 1548.76 L1362.13 1551.62 L1335.21 1551.62 Q1335.59 1557.67 1338.83 1560.85 Q1342.11 1564 1347.94 1564 Q1351.31 1564 1354.46 1563.17 Q1357.64 1562.35 1360.76 1560.69 L1360.76 1566.23 Q1357.61 1567.57 1354.3 1568.27 Q1350.99 1568.97 1347.59 1568.97 Q1339.06 1568.97 1334.06 1564 Q1329.09 1559.04 1329.09 1550.57 Q1329.09 1541.82 1333.81 1536.69 Q1338.55 1531.54 1346.57 1531.54 Q1353.76 1531.54 1357.93 1536.18 Q1362.13 1540.8 1362.13 1548.76 M1356.28 1547.04 Q1356.21 1542.23 1353.57 1539.37 Q1350.96 1536.5 1346.63 1536.5 Q1341.73 1536.5 1338.77 1539.27 Q1335.84 1542.04 1335.4 1547.07 L1356.28 1547.04 Z\" fill=\"#000000\" fill-rule=\"nonzero\" fill-opacity=\"1\" /><path clip-path=\"url(#clip410)\" d=\"M1392.4 1537.87 Q1391.41 1537.3 1390.24 1537.04 Q1389.09 1536.76 1387.69 1536.76 Q1382.73 1536.76 1380.05 1540 Q1377.41 1543.22 1377.41 1549.27 L1377.41 1568.04 L1371.52 1568.04 L1371.52 1532.4 L1377.41 1532.4 L1377.41 1537.93 Q1379.26 1534.69 1382.22 1533.13 Q1385.18 1531.54 1389.41 1531.54 Q1390.01 1531.54 1390.75 1531.63 Q1391.48 1531.7 1392.37 1531.85 L1392.4 1537.87 Z\" fill=\"#000000\" fill-rule=\"nonzero\" fill-opacity=\"1\" /><polyline clip-path=\"url(#clip412)\" style=\"stroke:#000000; stroke-linecap:round; stroke-linejoin:round; stroke-width:2; stroke-opacity:0.1; fill:none\" points=\"203.964,1384.24 2352.76,1384.24 \"/>\n",
              "<polyline clip-path=\"url(#clip412)\" style=\"stroke:#000000; stroke-linecap:round; stroke-linejoin:round; stroke-width:2; stroke-opacity:0.1; fill:none\" points=\"203.964,1124.63 2352.76,1124.63 \"/>\n",
              "<polyline clip-path=\"url(#clip412)\" style=\"stroke:#000000; stroke-linecap:round; stroke-linejoin:round; stroke-width:2; stroke-opacity:0.1; fill:none\" points=\"203.964,865.017 2352.76,865.017 \"/>\n",
              "<polyline clip-path=\"url(#clip412)\" style=\"stroke:#000000; stroke-linecap:round; stroke-linejoin:round; stroke-width:2; stroke-opacity:0.1; fill:none\" points=\"203.964,605.407 2352.76,605.407 \"/>\n",
              "<polyline clip-path=\"url(#clip412)\" style=\"stroke:#000000; stroke-linecap:round; stroke-linejoin:round; stroke-width:2; stroke-opacity:0.1; fill:none\" points=\"203.964,345.796 2352.76,345.796 \"/>\n",
              "<polyline clip-path=\"url(#clip412)\" style=\"stroke:#000000; stroke-linecap:round; stroke-linejoin:round; stroke-width:2; stroke-opacity:0.1; fill:none\" points=\"203.964,86.1857 2352.76,86.1857 \"/>\n",
              "<polyline clip-path=\"url(#clip410)\" style=\"stroke:#000000; stroke-linecap:round; stroke-linejoin:round; stroke-width:4; stroke-opacity:1; fill:none\" points=\"203.964,1423.18 203.964,47.2441 \"/>\n",
              "<polyline clip-path=\"url(#clip410)\" style=\"stroke:#000000; stroke-linecap:round; stroke-linejoin:round; stroke-width:4; stroke-opacity:1; fill:none\" points=\"203.964,1384.24 222.861,1384.24 \"/>\n",
              "<polyline clip-path=\"url(#clip410)\" style=\"stroke:#000000; stroke-linecap:round; stroke-linejoin:round; stroke-width:4; stroke-opacity:1; fill:none\" points=\"203.964,1124.63 222.861,1124.63 \"/>\n",
              "<polyline clip-path=\"url(#clip410)\" style=\"stroke:#000000; stroke-linecap:round; stroke-linejoin:round; stroke-width:4; stroke-opacity:1; fill:none\" points=\"203.964,865.017 222.861,865.017 \"/>\n",
              "<polyline clip-path=\"url(#clip410)\" style=\"stroke:#000000; stroke-linecap:round; stroke-linejoin:round; stroke-width:4; stroke-opacity:1; fill:none\" points=\"203.964,605.407 222.861,605.407 \"/>\n",
              "<polyline clip-path=\"url(#clip410)\" style=\"stroke:#000000; stroke-linecap:round; stroke-linejoin:round; stroke-width:4; stroke-opacity:1; fill:none\" points=\"203.964,345.796 222.861,345.796 \"/>\n",
              "<polyline clip-path=\"url(#clip410)\" style=\"stroke:#000000; stroke-linecap:round; stroke-linejoin:round; stroke-width:4; stroke-opacity:1; fill:none\" points=\"203.964,86.1857 222.861,86.1857 \"/>\n",
              "<path clip-path=\"url(#clip410)\" d=\"M156.019 1370.04 Q152.408 1370.04 150.579 1373.6 Q148.774 1377.14 148.774 1384.27 Q148.774 1391.38 150.579 1394.94 Q152.408 1398.49 156.019 1398.49 Q159.653 1398.49 161.459 1394.94 Q163.288 1391.38 163.288 1384.27 Q163.288 1377.14 161.459 1373.6 Q159.653 1370.04 156.019 1370.04 M156.019 1366.33 Q161.829 1366.33 164.885 1370.94 Q167.964 1375.52 167.964 1384.27 Q167.964 1393 164.885 1397.61 Q161.829 1402.19 156.019 1402.19 Q150.209 1402.19 147.13 1397.61 Q144.075 1393 144.075 1384.27 Q144.075 1375.52 147.13 1370.94 Q150.209 1366.33 156.019 1366.33 Z\" fill=\"#000000\" fill-rule=\"nonzero\" fill-opacity=\"1\" /><path clip-path=\"url(#clip410)\" d=\"M147.061 1107.35 L165.417 1107.35 L165.417 1111.28 L151.343 1111.28 L151.343 1119.76 Q152.362 1119.41 153.38 1119.25 Q154.399 1119.06 155.417 1119.06 Q161.204 1119.06 164.584 1122.23 Q167.964 1125.4 167.964 1130.82 Q167.964 1136.4 164.491 1139.5 Q161.019 1142.58 154.7 1142.58 Q152.524 1142.58 150.255 1142.21 Q148.01 1141.84 145.603 1141.1 L145.603 1136.4 Q147.686 1137.53 149.908 1138.09 Q152.13 1138.64 154.607 1138.64 Q158.612 1138.64 160.95 1136.54 Q163.288 1134.43 163.288 1130.82 Q163.288 1127.21 160.95 1125.1 Q158.612 1123 154.607 1123 Q152.732 1123 150.857 1123.41 Q149.005 1123.83 147.061 1124.71 L147.061 1107.35 Z\" fill=\"#000000\" fill-rule=\"nonzero\" fill-opacity=\"1\" /><path clip-path=\"url(#clip410)\" d=\"M116.668 878.362 L124.306 878.362 L124.306 851.996 L115.996 853.663 L115.996 849.404 L124.26 847.737 L128.936 847.737 L128.936 878.362 L136.575 878.362 L136.575 882.297 L116.668 882.297 L116.668 878.362 Z\" fill=\"#000000\" fill-rule=\"nonzero\" fill-opacity=\"1\" /><path clip-path=\"url(#clip410)\" d=\"M156.019 850.816 Q152.408 850.816 150.579 854.381 Q148.774 857.922 148.774 865.052 Q148.774 872.158 150.579 875.723 Q152.408 879.265 156.019 879.265 Q159.653 879.265 161.459 875.723 Q163.288 872.158 163.288 865.052 Q163.288 857.922 161.459 854.381 Q159.653 850.816 156.019 850.816 M156.019 847.112 Q161.829 847.112 164.885 851.719 Q167.964 856.302 167.964 865.052 Q167.964 873.779 164.885 878.385 Q161.829 882.969 156.019 882.969 Q150.209 882.969 147.13 878.385 Q144.075 873.779 144.075 865.052 Q144.075 856.302 147.13 851.719 Q150.209 847.112 156.019 847.112 Z\" fill=\"#000000\" fill-rule=\"nonzero\" fill-opacity=\"1\" /><path clip-path=\"url(#clip410)\" d=\"M117.663 618.752 L125.302 618.752 L125.302 592.386 L116.992 594.053 L116.992 589.793 L125.255 588.127 L129.931 588.127 L129.931 618.752 L137.57 618.752 L137.57 622.687 L117.663 622.687 L117.663 618.752 Z\" fill=\"#000000\" fill-rule=\"nonzero\" fill-opacity=\"1\" /><path clip-path=\"url(#clip410)\" d=\"M147.061 588.127 L165.417 588.127 L165.417 592.062 L151.343 592.062 L151.343 600.534 Q152.362 600.187 153.38 600.025 Q154.399 599.84 155.417 599.84 Q161.204 599.84 164.584 603.011 Q167.964 606.182 167.964 611.599 Q167.964 617.177 164.491 620.279 Q161.019 623.358 154.7 623.358 Q152.524 623.358 150.255 622.988 Q148.01 622.617 145.603 621.877 L145.603 617.177 Q147.686 618.312 149.908 618.867 Q152.13 619.423 154.607 619.423 Q158.612 619.423 160.95 617.316 Q163.288 615.21 163.288 611.599 Q163.288 607.988 160.95 605.881 Q158.612 603.775 154.607 603.775 Q152.732 603.775 150.857 604.191 Q149.005 604.608 147.061 605.488 L147.061 588.127 Z\" fill=\"#000000\" fill-rule=\"nonzero\" fill-opacity=\"1\" /><path clip-path=\"url(#clip410)\" d=\"M119.885 359.141 L136.204 359.141 L136.204 363.076 L114.26 363.076 L114.26 359.141 Q116.922 356.386 121.505 351.757 Q126.112 347.104 127.292 345.761 Q129.538 343.238 130.417 341.502 Q131.32 339.743 131.32 338.053 Q131.32 335.299 129.376 333.562 Q127.455 331.826 124.353 331.826 Q122.154 331.826 119.7 332.59 Q117.269 333.354 114.492 334.905 L114.492 330.183 Q117.316 329.049 119.769 328.47 Q122.223 327.891 124.26 327.891 Q129.63 327.891 132.825 330.576 Q136.019 333.262 136.019 337.752 Q136.019 339.882 135.209 341.803 Q134.422 343.701 132.316 346.294 Q131.737 346.965 128.635 350.183 Q125.533 353.377 119.885 359.141 Z\" fill=\"#000000\" fill-rule=\"nonzero\" fill-opacity=\"1\" /><path clip-path=\"url(#clip410)\" d=\"M156.019 331.595 Q152.408 331.595 150.579 335.16 Q148.774 338.701 148.774 345.831 Q148.774 352.937 150.579 356.502 Q152.408 360.044 156.019 360.044 Q159.653 360.044 161.459 356.502 Q163.288 352.937 163.288 345.831 Q163.288 338.701 161.459 335.16 Q159.653 331.595 156.019 331.595 M156.019 327.891 Q161.829 327.891 164.885 332.498 Q167.964 337.081 167.964 345.831 Q167.964 354.558 164.885 359.164 Q161.829 363.747 156.019 363.747 Q150.209 363.747 147.13 359.164 Q144.075 354.558 144.075 345.831 Q144.075 337.081 147.13 332.498 Q150.209 327.891 156.019 327.891 Z\" fill=\"#000000\" fill-rule=\"nonzero\" fill-opacity=\"1\" /><path clip-path=\"url(#clip410)\" d=\"M120.88 99.5305 L137.2 99.5305 L137.2 103.466 L115.256 103.466 L115.256 99.5305 Q117.918 96.7759 122.501 92.1463 Q127.107 87.4935 128.288 86.151 Q130.533 83.6278 131.413 81.8917 Q132.316 80.1325 132.316 78.4427 Q132.316 75.688 130.371 73.9519 Q128.45 72.2158 125.348 72.2158 Q123.149 72.2158 120.695 72.9797 Q118.265 73.7436 115.487 75.2945 L115.487 70.5723 Q118.311 69.4381 120.765 68.8594 Q123.218 68.2807 125.255 68.2807 Q130.626 68.2807 133.82 70.9658 Q137.015 73.651 137.015 78.1417 Q137.015 80.2714 136.204 82.1926 Q135.417 84.0908 133.311 86.6834 Q132.732 87.3546 129.63 90.5722 Q126.529 93.7667 120.88 99.5305 Z\" fill=\"#000000\" fill-rule=\"nonzero\" fill-opacity=\"1\" /><path clip-path=\"url(#clip410)\" d=\"M147.061 68.9057 L165.417 68.9057 L165.417 72.8408 L151.343 72.8408 L151.343 81.313 Q152.362 80.9658 153.38 80.8038 Q154.399 80.6186 155.417 80.6186 Q161.204 80.6186 164.584 83.7899 Q167.964 86.9611 167.964 92.3778 Q167.964 97.9564 164.491 101.058 Q161.019 104.137 154.7 104.137 Q152.524 104.137 150.255 103.767 Q148.01 103.396 145.603 102.655 L145.603 97.9564 Q147.686 99.0907 149.908 99.6462 Q152.13 100.202 154.607 100.202 Q158.612 100.202 160.95 98.0953 Q163.288 95.9889 163.288 92.3778 Q163.288 88.7667 160.95 86.6602 Q158.612 84.5537 154.607 84.5537 Q152.732 84.5537 150.857 84.9704 Q149.005 85.3871 147.061 86.2667 L147.061 68.9057 Z\" fill=\"#000000\" fill-rule=\"nonzero\" fill-opacity=\"1\" /><path clip-path=\"url(#clip410)\" d=\"M18.0438 986.594 L24.314 986.594 Q22.5634 990.254 21.704 993.501 Q20.8447 996.747 20.8447 999.771 Q20.8447 1005.02 22.8817 1007.89 Q24.9187 1010.72 28.6745 1010.72 Q31.8255 1010.72 33.4488 1008.84 Q35.0402 1006.93 36.0269 1001.65 L36.8226 997.766 Q38.1912 990.572 41.6605 987.167 Q45.098 983.729 50.8908 983.729 Q57.7976 983.729 61.3624 988.376 Q64.9272 992.991 64.9272 1001.94 Q64.9272 1005.31 64.1633 1009.13 Q63.3994 1012.92 61.9035 1016.99 L55.2831 1016.99 Q57.4793 1013.08 58.5933 1009.32 Q59.7073 1005.56 59.7073 1001.94 Q59.7073 996.429 57.543 993.437 Q55.3786 990.445 51.3682 990.445 Q47.8671 990.445 45.8937 992.609 Q43.9204 994.742 42.9337 999.643 L42.1698 1003.56 Q40.7375 1010.75 37.682 1013.97 Q34.6264 1017.18 29.1837 1017.18 Q22.8817 1017.18 19.2532 1012.76 Q15.6248 1008.3 15.6248 1000.5 Q15.6248 997.161 16.2295 993.691 Q16.8343 990.222 18.0438 986.594 Z\" fill=\"#000000\" fill-rule=\"nonzero\" fill-opacity=\"1\" /><path clip-path=\"url(#clip410)\" d=\"M46.212 970.457 Q52.6732 970.457 56.3653 967.815 Q60.0256 965.141 60.0256 960.494 Q60.0256 955.847 56.3653 953.174 Q52.6732 950.5 46.212 950.5 Q39.7508 950.5 36.0905 953.174 Q32.3984 955.847 32.3984 960.494 Q32.3984 965.141 36.0905 967.815 Q39.7508 970.457 46.212 970.457 M58.657 950.5 Q61.8398 952.346 63.3994 955.179 Q64.9272 957.98 64.9272 961.927 Q64.9272 968.388 59.771 972.462 Q54.6147 976.504 46.212 976.504 Q37.8093 976.504 32.6531 972.462 Q27.4968 968.388 27.4968 961.927 Q27.4968 957.98 29.0564 955.179 Q30.5842 952.346 33.7671 950.5 L28.3562 950.5 L28.3562 944.644 L77.5631 944.644 L77.5631 950.5 L58.657 950.5 Z\" fill=\"#000000\" fill-rule=\"nonzero\" fill-opacity=\"1\" /><path clip-path=\"url(#clip410)\" d=\"M49.9359 933.185 L28.3562 933.185 L28.3562 927.329 L49.7131 927.329 Q54.7739 927.329 57.3202 925.356 Q59.8346 923.382 59.8346 919.436 Q59.8346 914.693 56.8109 911.956 Q53.7872 909.187 48.5673 909.187 L28.3562 909.187 L28.3562 903.33 L64.0042 903.33 L64.0042 909.187 L58.5296 909.187 Q61.7762 911.319 63.3676 914.152 Q64.9272 916.953 64.9272 920.677 Q64.9272 926.82 61.1078 930.003 Q57.2883 933.185 49.9359 933.185 M27.4968 918.449 L27.4968 918.449 Z\" fill=\"#000000\" fill-rule=\"nonzero\" fill-opacity=\"1\" /><path clip-path=\"url(#clip410)\" d=\"M46.0847 875.067 Q46.0847 882.164 47.7079 884.902 Q49.3312 887.639 53.2461 887.639 Q56.3653 887.639 58.2114 885.602 Q60.0256 883.533 60.0256 880 Q60.0256 875.13 56.5881 872.202 Q53.1188 869.242 47.3897 869.242 L46.0847 869.242 L46.0847 875.067 M43.6657 863.385 L64.0042 863.385 L64.0042 869.242 L58.5933 869.242 Q61.8398 871.247 63.3994 874.239 Q64.9272 877.231 64.9272 881.56 Q64.9272 887.034 61.8716 890.281 Q58.7843 893.495 53.6281 893.495 Q47.6125 893.495 44.5569 889.485 Q41.5014 885.443 41.5014 877.454 L41.5014 869.242 L40.9285 869.242 Q36.8862 869.242 34.6901 871.916 Q32.4621 874.557 32.4621 879.363 Q32.4621 882.419 33.1941 885.315 Q33.9262 888.212 35.3903 890.885 L29.9795 890.885 Q28.7381 887.671 28.1334 884.647 Q27.4968 881.623 27.4968 878.759 Q27.4968 871.024 31.5072 867.205 Q35.5176 863.385 43.6657 863.385 Z\" fill=\"#000000\" fill-rule=\"nonzero\" fill-opacity=\"1\" /><path clip-path=\"url(#clip410)\" d=\"M33.8307 830.666 Q33.2578 831.652 33.0032 832.83 Q32.7167 833.976 32.7167 835.376 Q32.7167 840.342 35.9632 843.015 Q39.1779 845.657 45.2253 845.657 L64.0042 845.657 L64.0042 851.545 L28.3562 851.545 L28.3562 845.657 L33.8944 845.657 Q30.6479 843.811 29.0883 840.851 Q27.4968 837.891 27.4968 833.658 Q27.4968 833.053 27.5923 832.321 Q27.656 831.589 27.8151 830.698 L33.8307 830.666 Z\" fill=\"#000000\" fill-rule=\"nonzero\" fill-opacity=\"1\" /><path clip-path=\"url(#clip410)\" d=\"M44.7161 795.463 L47.5806 795.463 L47.5806 822.39 Q53.6281 822.008 56.8109 818.762 Q59.9619 815.484 59.9619 809.659 Q59.9619 806.285 59.1344 803.134 Q58.3069 799.951 56.6518 796.832 L62.1899 796.832 Q63.5267 799.983 64.227 803.293 Q64.9272 806.603 64.9272 810.009 Q64.9272 818.539 59.9619 823.536 Q54.9967 828.501 46.5303 828.501 Q37.7774 828.501 32.6531 823.791 Q27.4968 819.048 27.4968 811.028 Q27.4968 803.834 32.1438 799.665 Q36.7589 795.463 44.7161 795.463 M42.9973 801.32 Q38.1912 801.383 35.3266 804.025 Q32.4621 806.635 32.4621 810.964 Q32.4621 815.865 35.2312 818.826 Q38.0002 821.754 43.0292 822.199 L42.9973 801.32 Z\" fill=\"#000000\" fill-rule=\"nonzero\" fill-opacity=\"1\" /><path clip-path=\"url(#clip410)\" d=\"M32.4621 751.317 Q32.4621 756.028 36.1542 758.765 Q39.8145 761.502 46.212 761.502 Q52.6095 761.502 56.3017 758.797 Q59.9619 756.06 59.9619 751.317 Q59.9619 746.638 56.2698 743.901 Q52.5777 741.164 46.212 741.164 Q39.8781 741.164 36.186 743.901 Q32.4621 746.638 32.4621 751.317 M27.4968 751.317 Q27.4968 743.678 32.4621 739.318 Q37.4273 734.957 46.212 734.957 Q54.9649 734.957 59.9619 739.318 Q64.9272 743.678 64.9272 751.317 Q64.9272 758.988 59.9619 763.348 Q54.9649 767.677 46.212 767.677 Q37.4273 767.677 32.4621 763.348 Q27.4968 758.988 27.4968 751.317 Z\" fill=\"#000000\" fill-rule=\"nonzero\" fill-opacity=\"1\" /><path clip-path=\"url(#clip410)\" d=\"M14.479 707.203 L19.3487 707.203 L19.3487 712.805 Q19.3487 715.956 20.6219 717.197 Q21.895 718.407 25.2052 718.407 L28.3562 718.407 L28.3562 708.762 L32.9077 708.762 L32.9077 718.407 L64.0042 718.407 L64.0042 724.295 L32.9077 724.295 L32.9077 729.897 L28.3562 729.897 L28.3562 724.295 L25.8736 724.295 Q19.9216 724.295 17.2162 721.526 Q14.479 718.757 14.479 712.741 L14.479 707.203 Z\" fill=\"#000000\" fill-rule=\"nonzero\" fill-opacity=\"1\" /><path clip-path=\"url(#clip410)\" d=\"M16.4842 681.326 L16.4842 674.897 L64.0042 674.897 L64.0042 681.326 L16.4842 681.326 Z\" fill=\"#000000\" fill-rule=\"nonzero\" fill-opacity=\"1\" /><path clip-path=\"url(#clip410)\" d=\"M42.4881 632.724 L64.0042 632.724 L64.0042 638.581 L42.679 638.581 Q37.6183 638.581 35.1038 640.554 Q32.5894 642.527 32.5894 646.474 Q32.5894 651.216 35.6131 653.954 Q38.6368 656.691 43.8567 656.691 L64.0042 656.691 L64.0042 662.579 L28.3562 662.579 L28.3562 656.691 L33.8944 656.691 Q30.6797 654.59 29.0883 651.758 Q27.4968 648.893 27.4968 645.169 Q27.4968 639.026 31.3163 635.875 Q35.1038 632.724 42.4881 632.724 Z\" fill=\"#000000\" fill-rule=\"nonzero\" fill-opacity=\"1\" /><path clip-path=\"url(#clip410)\" d=\"M18.2347 615.25 L28.3562 615.25 L28.3562 603.187 L32.9077 603.187 L32.9077 615.25 L52.2594 615.25 Q56.6199 615.25 57.8613 614.073 Q59.1026 612.863 59.1026 609.203 L59.1026 603.187 L64.0042 603.187 L64.0042 609.203 Q64.0042 615.982 61.4897 618.56 Q58.9434 621.139 52.2594 621.139 L32.9077 621.139 L32.9077 625.435 L28.3562 625.435 L28.3562 621.139 L18.2347 621.139 L18.2347 615.25 Z\" fill=\"#000000\" fill-rule=\"nonzero\" fill-opacity=\"1\" /><path clip-path=\"url(#clip410)\" d=\"M44.7161 564.993 L47.5806 564.993 L47.5806 591.92 Q53.6281 591.538 56.8109 588.291 Q59.9619 585.013 59.9619 579.188 Q59.9619 575.815 59.1344 572.664 Q58.3069 569.481 56.6518 566.362 L62.1899 566.362 Q63.5267 569.513 64.227 572.823 Q64.9272 576.133 64.9272 579.539 Q64.9272 588.069 59.9619 593.066 Q54.9967 598.031 46.5303 598.031 Q37.7774 598.031 32.6531 593.32 Q27.4968 588.578 27.4968 580.557 Q27.4968 573.364 32.1438 569.194 Q36.7589 564.993 44.7161 564.993 M42.9973 570.849 Q38.1912 570.913 35.3266 573.555 Q32.4621 576.165 32.4621 580.493 Q32.4621 585.395 35.2312 588.355 Q38.0002 591.283 43.0292 591.729 L42.9973 570.849 Z\" fill=\"#000000\" fill-rule=\"nonzero\" fill-opacity=\"1\" /><path clip-path=\"url(#clip410)\" d=\"M45.7664 531.923 Q39.4007 531.923 35.8996 534.565 Q32.3984 537.175 32.3984 541.917 Q32.3984 546.628 35.8996 549.27 Q39.4007 551.88 45.7664 551.88 Q52.1003 551.88 55.6014 549.27 Q59.1026 546.628 59.1026 541.917 Q59.1026 537.175 55.6014 534.565 Q52.1003 531.923 45.7664 531.923 M59.58 526.067 Q68.683 526.067 73.1071 530.109 Q77.5631 534.151 77.5631 542.49 Q77.5631 545.578 77.0857 548.315 Q76.6401 551.052 75.6852 553.63 L69.9879 553.63 Q71.3884 551.052 72.0568 548.538 Q72.7252 546.023 72.7252 543.413 Q72.7252 537.652 69.7015 534.788 Q66.7096 531.923 60.6303 531.923 L57.7339 531.923 Q60.885 533.737 62.4446 536.57 Q64.0042 539.403 64.0042 543.35 Q64.0042 549.906 59.0071 553.917 Q54.01 557.927 45.7664 557.927 Q37.491 557.927 32.4939 553.917 Q27.4968 549.906 27.4968 543.35 Q27.4968 539.403 29.0564 536.57 Q30.616 533.737 33.7671 531.923 L28.3562 531.923 L28.3562 526.067 L59.58 526.067 Z\" fill=\"#000000\" fill-rule=\"nonzero\" fill-opacity=\"1\" /><path clip-path=\"url(#clip410)\" d=\"M44.7161 483.512 L47.5806 483.512 L47.5806 510.439 Q53.6281 510.057 56.8109 506.81 Q59.9619 503.532 59.9619 497.707 Q59.9619 494.334 59.1344 491.183 Q58.3069 488 56.6518 484.881 L62.1899 484.881 Q63.5267 488.032 64.227 491.342 Q64.9272 494.652 64.9272 498.058 Q64.9272 506.588 59.9619 511.585 Q54.9967 516.55 46.5303 516.55 Q37.7774 516.55 32.6531 511.839 Q27.4968 507.097 27.4968 499.076 Q27.4968 491.883 32.1438 487.713 Q36.7589 483.512 44.7161 483.512 M42.9973 489.368 Q38.1912 489.432 35.3266 492.074 Q32.4621 494.684 32.4621 499.012 Q32.4621 503.914 35.2312 506.874 Q38.0002 509.802 43.0292 510.248 L42.9973 489.368 Z\" fill=\"#000000\" fill-rule=\"nonzero\" fill-opacity=\"1\" /><path clip-path=\"url(#clip410)\" d=\"M33.8307 453.243 Q33.2578 454.23 33.0032 455.407 Q32.7167 456.553 32.7167 457.954 Q32.7167 462.919 35.9632 465.592 Q39.1779 468.234 45.2253 468.234 L64.0042 468.234 L64.0042 474.123 L28.3562 474.123 L28.3562 468.234 L33.8944 468.234 Q30.6479 466.388 29.0883 463.428 Q27.4968 460.468 27.4968 456.235 Q27.4968 455.63 27.5923 454.898 Q27.656 454.166 27.8151 453.275 L33.8307 453.243 Z\" fill=\"#000000\" fill-rule=\"nonzero\" fill-opacity=\"1\" /><polyline clip-path=\"url(#clip412)\" style=\"stroke:#009af9; stroke-linecap:round; stroke-linejoin:round; stroke-width:4; stroke-opacity:1; fill:none\" points=\"264.778,86.1857 467.495,553.485 670.211,916.939 872.927,1176.55 1075.64,1332.32 1278.36,1384.24 1481.08,1332.32 1683.79,1176.55 1886.51,916.939 2089.22,553.485 2291.94,86.1857 264.778,86.1857 467.495,553.485 670.211,916.939 872.927,1176.55 1075.64,1332.32 1278.36,1384.24 1481.08,1332.32 1683.79,1176.55 1886.51,916.939 2089.22,553.485 2291.94,86.1857 264.778,86.1857 467.495,553.485 670.211,916.939 872.927,1176.55 1075.64,1332.32 1278.36,1384.24 1481.08,1332.32 1683.79,1176.55 1886.51,916.939 2089.22,553.485 2291.94,86.1857 264.778,86.1857 467.495,553.485 670.211,916.939 872.927,1176.55 1075.64,1332.32 1278.36,1384.24 1481.08,1332.32 1683.79,1176.55 1886.51,916.939 2089.22,553.485 2291.94,86.1857 264.778,86.1857 467.495,553.485 670.211,916.939 872.927,1176.55 1075.64,1332.32 1278.36,1384.24 1481.08,1332.32 1683.79,1176.55 1886.51,916.939 2089.22,553.485 2291.94,86.1857 264.778,86.1857 467.495,553.485 670.211,916.939 872.927,1176.55 1075.64,1332.32 1278.36,1384.24 1481.08,1332.32 1683.79,1176.55 1886.51,916.939 2089.22,553.485 2291.94,86.1857 264.778,86.1857 467.495,553.485 670.211,916.939 872.927,1176.55 1075.64,1332.32 1278.36,1384.24 1481.08,1332.32 1683.79,1176.55 1886.51,916.939 2089.22,553.485 2291.94,86.1857 264.778,86.1857 467.495,553.485 670.211,916.939 872.927,1176.55 1075.64,1332.32 1278.36,1384.24 1481.08,1332.32 1683.79,1176.55 1886.51,916.939 2089.22,553.485 2291.94,86.1857 264.778,86.1857 467.495,553.485 670.211,916.939 872.927,1176.55 1075.64,1332.32 1278.36,1384.24 1481.08,1332.32 1683.79,1176.55 1886.51,916.939 2089.22,553.485 2291.94,86.1857 264.778,86.1857 467.495,553.485 670.211,916.939 872.927,1176.55 1075.64,1332.32 1278.36,1384.24 1481.08,1332.32 1683.79,1176.55 1886.51,916.939 2089.22,553.485 2291.94,86.1857 264.778,86.1857 467.495,553.485 670.211,916.939 872.927,1176.55 1075.64,1332.32 1278.36,1384.24 1481.08,1332.32 1683.79,1176.55 1886.51,916.939 2089.22,553.485 2291.94,86.1857 \"/>\n",
              "<path clip-path=\"url(#clip410)\" d=\"M1633.73 1377.32 L2281.13 1377.32 L2281.13 1273.64 L1633.73 1273.64  Z\" fill=\"#ffffff\" fill-rule=\"evenodd\" fill-opacity=\"1\"/>\n",
              "<polyline clip-path=\"url(#clip410)\" style=\"stroke:#000000; stroke-linecap:round; stroke-linejoin:round; stroke-width:4; stroke-opacity:1; fill:none\" points=\"1633.73,1377.32 2281.13,1377.32 2281.13,1273.64 1633.73,1273.64 1633.73,1377.32 \"/>\n",
              "<polyline clip-path=\"url(#clip410)\" style=\"stroke:#009af9; stroke-linecap:round; stroke-linejoin:round; stroke-width:4; stroke-opacity:1; fill:none\" points=\"1657.6,1325.48 1800.86,1325.48 \"/>\n",
              "<path clip-path=\"url(#clip410)\" d=\"M1846.98 1309.33 L1846.98 1313.89 Q1844.32 1312.62 1841.96 1311.99 Q1839.59 1311.37 1837.4 1311.37 Q1833.58 1311.37 1831.49 1312.85 Q1829.43 1314.33 1829.43 1317.06 Q1829.43 1319.35 1830.8 1320.53 Q1832.19 1321.69 1836.03 1322.41 L1838.85 1322.99 Q1844.08 1323.98 1846.56 1326.51 Q1849.06 1329.01 1849.06 1333.22 Q1849.06 1338.24 1845.68 1340.83 Q1842.33 1343.43 1835.82 1343.43 Q1833.37 1343.43 1830.59 1342.87 Q1827.84 1342.32 1824.87 1341.23 L1824.87 1336.41 Q1827.72 1338.01 1830.45 1338.82 Q1833.18 1339.63 1835.82 1339.63 Q1839.83 1339.63 1842 1338.06 Q1844.18 1336.48 1844.18 1333.57 Q1844.18 1331.02 1842.6 1329.58 Q1841.05 1328.15 1837.49 1327.43 L1834.64 1326.88 Q1829.41 1325.83 1827.07 1323.61 Q1824.73 1321.39 1824.73 1317.43 Q1824.73 1312.85 1827.95 1310.21 Q1831.19 1307.57 1836.86 1307.57 Q1839.29 1307.57 1841.82 1308.01 Q1844.34 1308.45 1846.98 1309.33 Z\" fill=\"#000000\" fill-rule=\"nonzero\" fill-opacity=\"1\" /><path clip-path=\"url(#clip410)\" d=\"M1858.71 1329.82 Q1858.71 1334.51 1860.64 1337.2 Q1862.58 1339.86 1865.96 1339.86 Q1869.34 1339.86 1871.28 1337.2 Q1873.23 1334.51 1873.23 1329.82 Q1873.23 1325.12 1871.28 1322.45 Q1869.34 1319.77 1865.96 1319.77 Q1862.58 1319.77 1860.64 1322.45 Q1858.71 1325.12 1858.71 1329.82 M1873.23 1338.87 Q1871.89 1341.18 1869.83 1342.32 Q1867.79 1343.43 1864.92 1343.43 Q1860.22 1343.43 1857.26 1339.68 Q1854.32 1335.93 1854.32 1329.82 Q1854.32 1323.7 1857.26 1319.95 Q1860.22 1316.2 1864.92 1316.2 Q1867.79 1316.2 1869.83 1317.34 Q1871.89 1318.45 1873.23 1320.76 L1873.23 1316.83 L1877.49 1316.83 L1877.49 1352.62 L1873.23 1352.62 L1873.23 1338.87 Z\" fill=\"#000000\" fill-rule=\"nonzero\" fill-opacity=\"1\" /><path clip-path=\"url(#clip410)\" d=\"M1885.82 1332.52 L1885.82 1316.83 L1890.08 1316.83 L1890.08 1332.36 Q1890.08 1336.04 1891.52 1337.89 Q1892.95 1339.72 1895.82 1339.72 Q1899.27 1339.72 1901.26 1337.52 Q1903.27 1335.32 1903.27 1331.53 L1903.27 1316.83 L1907.53 1316.83 L1907.53 1342.76 L1903.27 1342.76 L1903.27 1338.77 Q1901.72 1341.13 1899.66 1342.29 Q1897.63 1343.43 1894.92 1343.43 Q1890.45 1343.43 1888.14 1340.65 Q1885.82 1337.87 1885.82 1332.52 M1896.54 1316.2 L1896.54 1316.2 Z\" fill=\"#000000\" fill-rule=\"nonzero\" fill-opacity=\"1\" /><path clip-path=\"url(#clip410)\" d=\"M1928.09 1329.72 Q1922.93 1329.72 1920.94 1330.9 Q1918.95 1332.08 1918.95 1334.93 Q1918.95 1337.2 1920.43 1338.54 Q1921.93 1339.86 1924.5 1339.86 Q1928.04 1339.86 1930.17 1337.36 Q1932.33 1334.84 1932.33 1330.67 L1932.33 1329.72 L1928.09 1329.72 M1936.58 1327.96 L1936.58 1342.76 L1932.33 1342.76 L1932.33 1338.82 Q1930.87 1341.18 1928.69 1342.32 Q1926.52 1343.43 1923.37 1343.43 Q1919.39 1343.43 1917.02 1341.2 Q1914.69 1338.96 1914.69 1335.21 Q1914.69 1330.83 1917.6 1328.61 Q1920.54 1326.39 1926.35 1326.39 L1932.33 1326.39 L1932.33 1325.97 Q1932.33 1323.03 1930.38 1321.44 Q1928.46 1319.82 1924.96 1319.82 Q1922.74 1319.82 1920.64 1320.35 Q1918.53 1320.88 1916.58 1321.95 L1916.58 1318.01 Q1918.92 1317.11 1921.12 1316.67 Q1923.32 1316.2 1925.4 1316.2 Q1931.03 1316.2 1933.81 1319.12 Q1936.58 1322.04 1936.58 1327.96 Z\" fill=\"#000000\" fill-rule=\"nonzero\" fill-opacity=\"1\" /><path clip-path=\"url(#clip410)\" d=\"M1960.38 1320.81 Q1959.66 1320.39 1958.81 1320.21 Q1957.97 1320 1956.95 1320 Q1953.34 1320 1951.4 1322.36 Q1949.48 1324.7 1949.48 1329.1 L1949.48 1342.76 L1945.2 1342.76 L1945.2 1316.83 L1949.48 1316.83 L1949.48 1320.86 Q1950.82 1318.5 1952.97 1317.36 Q1955.13 1316.2 1958.2 1316.2 Q1958.64 1316.2 1959.18 1316.27 Q1959.71 1316.32 1960.36 1316.44 L1960.38 1320.81 Z\" fill=\"#000000\" fill-rule=\"nonzero\" fill-opacity=\"1\" /><path clip-path=\"url(#clip410)\" d=\"M1985.98 1328.73 L1985.98 1330.81 L1966.4 1330.81 Q1966.68 1335.21 1969.04 1337.52 Q1971.42 1339.82 1975.66 1339.82 Q1978.11 1339.82 1980.4 1339.21 Q1982.72 1338.61 1984.99 1337.41 L1984.99 1341.44 Q1982.7 1342.41 1980.29 1342.92 Q1977.88 1343.43 1975.4 1343.43 Q1969.2 1343.43 1965.57 1339.82 Q1961.95 1336.2 1961.95 1330.05 Q1961.95 1323.68 1965.38 1319.95 Q1968.83 1316.2 1974.66 1316.2 Q1979.89 1316.2 1982.93 1319.58 Q1985.98 1322.94 1985.98 1328.73 M1981.72 1327.48 Q1981.68 1323.98 1979.76 1321.9 Q1977.86 1319.82 1974.71 1319.82 Q1971.14 1319.82 1968.99 1321.83 Q1966.86 1323.84 1966.54 1327.5 L1981.72 1327.48 Z\" fill=\"#000000\" fill-rule=\"nonzero\" fill-opacity=\"1\" /><path clip-path=\"url(#clip410)\" d=\"M2018.09 1319.82 Q2014.66 1319.82 2012.67 1322.5 Q2010.68 1325.16 2010.68 1329.82 Q2010.68 1334.47 2012.65 1337.15 Q2014.64 1339.82 2018.09 1339.82 Q2021.49 1339.82 2023.48 1337.13 Q2025.47 1334.45 2025.47 1329.82 Q2025.47 1325.21 2023.48 1322.52 Q2021.49 1319.82 2018.09 1319.82 M2018.09 1316.2 Q2023.64 1316.2 2026.82 1319.82 Q2029.99 1323.43 2029.99 1329.82 Q2029.99 1336.18 2026.82 1339.82 Q2023.64 1343.43 2018.09 1343.43 Q2012.51 1343.43 2009.34 1339.82 Q2006.19 1336.18 2006.19 1329.82 Q2006.19 1323.43 2009.34 1319.82 Q2012.51 1316.2 2018.09 1316.2 Z\" fill=\"#000000\" fill-rule=\"nonzero\" fill-opacity=\"1\" /><path clip-path=\"url(#clip410)\" d=\"M2050.17 1306.74 L2050.17 1310.28 L2046.1 1310.28 Q2043.81 1310.28 2042.9 1311.2 Q2042.02 1312.13 2042.02 1314.54 L2042.02 1316.83 L2049.04 1316.83 L2049.04 1320.14 L2042.02 1320.14 L2042.02 1342.76 L2037.74 1342.76 L2037.74 1320.14 L2033.67 1320.14 L2033.67 1316.83 L2037.74 1316.83 L2037.74 1315.02 Q2037.74 1310.7 2039.76 1308.73 Q2041.77 1306.74 2046.14 1306.74 L2050.17 1306.74 Z\" fill=\"#000000\" fill-rule=\"nonzero\" fill-opacity=\"1\" /><path clip-path=\"url(#clip410)\" d=\"M2068.99 1308.2 L2073.67 1308.2 L2073.67 1342.76 L2068.99 1342.76 L2068.99 1308.2 Z\" fill=\"#000000\" fill-rule=\"nonzero\" fill-opacity=\"1\" /><path clip-path=\"url(#clip410)\" d=\"M2104.34 1327.11 L2104.34 1342.76 L2100.08 1342.76 L2100.08 1327.25 Q2100.08 1323.57 2098.64 1321.74 Q2097.21 1319.91 2094.34 1319.91 Q2090.89 1319.91 2088.9 1322.11 Q2086.91 1324.31 2086.91 1328.1 L2086.91 1342.76 L2082.63 1342.76 L2082.63 1316.83 L2086.91 1316.83 L2086.91 1320.86 Q2088.44 1318.52 2090.5 1317.36 Q2092.58 1316.2 2095.29 1316.2 Q2099.75 1316.2 2102.05 1318.98 Q2104.34 1321.74 2104.34 1327.11 Z\" fill=\"#000000\" fill-rule=\"nonzero\" fill-opacity=\"1\" /><path clip-path=\"url(#clip410)\" d=\"M2117.05 1309.47 L2117.05 1316.83 L2125.82 1316.83 L2125.82 1320.14 L2117.05 1320.14 L2117.05 1334.21 Q2117.05 1337.38 2117.9 1338.29 Q2118.78 1339.19 2121.44 1339.19 L2125.82 1339.19 L2125.82 1342.76 L2121.44 1342.76 Q2116.51 1342.76 2114.64 1340.93 Q2112.76 1339.07 2112.76 1334.21 L2112.76 1320.14 L2109.64 1320.14 L2109.64 1316.83 L2112.76 1316.83 L2112.76 1309.47 L2117.05 1309.47 Z\" fill=\"#000000\" fill-rule=\"nonzero\" fill-opacity=\"1\" /><path clip-path=\"url(#clip410)\" d=\"M2153.6 1328.73 L2153.6 1330.81 L2134.01 1330.81 Q2134.29 1335.21 2136.65 1337.52 Q2139.04 1339.82 2143.27 1339.82 Q2145.73 1339.82 2148.02 1339.21 Q2150.33 1338.61 2152.6 1337.41 L2152.6 1341.44 Q2150.31 1342.41 2147.9 1342.92 Q2145.5 1343.43 2143.02 1343.43 Q2136.81 1343.43 2133.18 1339.82 Q2129.57 1336.2 2129.57 1330.05 Q2129.57 1323.68 2133 1319.95 Q2136.44 1316.2 2142.28 1316.2 Q2147.51 1316.2 2150.54 1319.58 Q2153.6 1322.94 2153.6 1328.73 M2149.34 1327.48 Q2149.29 1323.98 2147.37 1321.9 Q2145.47 1319.82 2142.32 1319.82 Q2138.76 1319.82 2136.61 1321.83 Q2134.48 1323.84 2134.15 1327.5 L2149.34 1327.48 Z\" fill=\"#000000\" fill-rule=\"nonzero\" fill-opacity=\"1\" /><path clip-path=\"url(#clip410)\" d=\"M2177.65 1329.49 Q2177.65 1324.86 2175.73 1322.32 Q2173.83 1319.77 2170.38 1319.77 Q2166.95 1319.77 2165.03 1322.32 Q2163.13 1324.86 2163.13 1329.49 Q2163.13 1334.1 2165.03 1336.64 Q2166.95 1339.19 2170.38 1339.19 Q2173.83 1339.19 2175.73 1336.64 Q2177.65 1334.1 2177.65 1329.49 M2181.91 1339.54 Q2181.91 1346.16 2178.97 1349.38 Q2176.03 1352.62 2169.96 1352.62 Q2167.72 1352.62 2165.73 1352.27 Q2163.74 1351.95 2161.86 1351.25 L2161.86 1347.11 Q2163.74 1348.13 2165.56 1348.61 Q2167.39 1349.1 2169.29 1349.1 Q2173.48 1349.1 2175.56 1346.9 Q2177.65 1344.72 2177.65 1340.3 L2177.65 1338.2 Q2176.33 1340.49 2174.27 1341.62 Q2172.21 1342.76 2169.34 1342.76 Q2164.57 1342.76 2161.65 1339.12 Q2158.74 1335.49 2158.74 1329.49 Q2158.74 1323.47 2161.65 1319.84 Q2164.57 1316.2 2169.34 1316.2 Q2172.21 1316.2 2174.27 1317.34 Q2176.33 1318.47 2177.65 1320.76 L2177.65 1316.83 L2181.91 1316.83 L2181.91 1339.54 Z\" fill=\"#000000\" fill-rule=\"nonzero\" fill-opacity=\"1\" /><path clip-path=\"url(#clip410)\" d=\"M2212.86 1328.73 L2212.86 1330.81 L2193.27 1330.81 Q2193.55 1335.21 2195.91 1337.52 Q2198.3 1339.82 2202.53 1339.82 Q2204.99 1339.82 2207.28 1339.21 Q2209.59 1338.61 2211.86 1337.41 L2211.86 1341.44 Q2209.57 1342.41 2207.16 1342.92 Q2204.75 1343.43 2202.28 1343.43 Q2196.07 1343.43 2192.44 1339.82 Q2188.83 1336.2 2188.83 1330.05 Q2188.83 1323.68 2192.25 1319.95 Q2195.7 1316.2 2201.54 1316.2 Q2206.77 1316.2 2209.8 1319.58 Q2212.86 1322.94 2212.86 1328.73 M2208.6 1327.48 Q2208.55 1323.98 2206.63 1321.9 Q2204.73 1319.82 2201.58 1319.82 Q2198.02 1319.82 2195.87 1321.83 Q2193.74 1323.84 2193.41 1327.5 L2208.6 1327.48 Z\" fill=\"#000000\" fill-rule=\"nonzero\" fill-opacity=\"1\" /><path clip-path=\"url(#clip410)\" d=\"M2234.87 1320.81 Q2234.15 1320.39 2233.3 1320.21 Q2232.46 1320 2231.44 1320 Q2227.83 1320 2225.89 1322.36 Q2223.97 1324.7 2223.97 1329.1 L2223.97 1342.76 L2219.68 1342.76 L2219.68 1316.83 L2223.97 1316.83 L2223.97 1320.86 Q2225.31 1318.5 2227.46 1317.36 Q2229.62 1316.2 2232.69 1316.2 Q2233.13 1316.2 2233.67 1316.27 Q2234.2 1316.32 2234.85 1316.44 L2234.87 1320.81 Z\" fill=\"#000000\" fill-rule=\"nonzero\" fill-opacity=\"1\" /><path clip-path=\"url(#clip410)\" d=\"M2255.87 1317.59 L2255.87 1321.62 Q2254.06 1320.7 2252.12 1320.23 Q2250.17 1319.77 2248.09 1319.77 Q2244.92 1319.77 2243.32 1320.74 Q2241.74 1321.71 2241.74 1323.66 Q2241.74 1325.14 2242.88 1326 Q2244.01 1326.83 2247.44 1327.59 L2248.9 1327.92 Q2253.43 1328.89 2255.33 1330.67 Q2257.25 1332.43 2257.25 1335.6 Q2257.25 1339.21 2254.38 1341.32 Q2251.54 1343.43 2246.54 1343.43 Q2244.45 1343.43 2242.18 1343.01 Q2239.94 1342.62 2237.44 1341.81 L2237.44 1337.41 Q2239.8 1338.63 2242.09 1339.26 Q2244.38 1339.86 2246.63 1339.86 Q2249.64 1339.86 2251.26 1338.84 Q2252.88 1337.8 2252.88 1335.93 Q2252.88 1334.19 2251.7 1333.26 Q2250.54 1332.34 2246.58 1331.48 L2245.1 1331.14 Q2241.14 1330.3 2239.38 1328.59 Q2237.62 1326.85 2237.62 1323.84 Q2237.62 1320.19 2240.22 1318.2 Q2242.81 1316.2 2247.58 1316.2 Q2249.94 1316.2 2252.02 1316.55 Q2254.11 1316.9 2255.87 1317.59 Z\" fill=\"#000000\" fill-rule=\"nonzero\" fill-opacity=\"1\" /></svg>\n"
            ],
            "text/html": [
              "<?xml version=\"1.0\" encoding=\"utf-8\"?>\n",
              "<svg xmlns=\"http://www.w3.org/2000/svg\" xmlns:xlink=\"http://www.w3.org/1999/xlink\" width=\"600\" height=\"400\" viewBox=\"0 0 2400 1600\">\n",
              "<defs>\n",
              "  <clipPath id=\"clip460\">\n",
              "    <rect x=\"0\" y=\"0\" width=\"2400\" height=\"1600\"/>\n",
              "  </clipPath>\n",
              "</defs>\n",
              "<path clip-path=\"url(#clip460)\" d=\"M0 1600 L2400 1600 L2400 8.88178e-14 L0 8.88178e-14  Z\" fill=\"#ffffff\" fill-rule=\"evenodd\" fill-opacity=\"1\"/>\n",
              "<defs>\n",
              "  <clipPath id=\"clip461\">\n",
              "    <rect x=\"480\" y=\"0\" width=\"1681\" height=\"1600\"/>\n",
              "  </clipPath>\n",
              "</defs>\n",
              "<path clip-path=\"url(#clip460)\" d=\"M203.964 1423.18 L2352.76 1423.18 L2352.76 47.2441 L203.964 47.2441  Z\" fill=\"#ffffff\" fill-rule=\"evenodd\" fill-opacity=\"1\"/>\n",
              "<defs>\n",
              "  <clipPath id=\"clip462\">\n",
              "    <rect x=\"203\" y=\"47\" width=\"2150\" height=\"1377\"/>\n",
              "  </clipPath>\n",
              "</defs>\n",
              "<polyline clip-path=\"url(#clip462)\" style=\"stroke:#000000; stroke-linecap:round; stroke-linejoin:round; stroke-width:2; stroke-opacity:0.1; fill:none\" points=\"467.495,1423.18 467.495,47.2441 \"/>\n",
              "<polyline clip-path=\"url(#clip462)\" style=\"stroke:#000000; stroke-linecap:round; stroke-linejoin:round; stroke-width:2; stroke-opacity:0.1; fill:none\" points=\"872.927,1423.18 872.927,47.2441 \"/>\n",
              "<polyline clip-path=\"url(#clip462)\" style=\"stroke:#000000; stroke-linecap:round; stroke-linejoin:round; stroke-width:2; stroke-opacity:0.1; fill:none\" points=\"1278.36,1423.18 1278.36,47.2441 \"/>\n",
              "<polyline clip-path=\"url(#clip462)\" style=\"stroke:#000000; stroke-linecap:round; stroke-linejoin:round; stroke-width:2; stroke-opacity:0.1; fill:none\" points=\"1683.79,1423.18 1683.79,47.2441 \"/>\n",
              "<polyline clip-path=\"url(#clip462)\" style=\"stroke:#000000; stroke-linecap:round; stroke-linejoin:round; stroke-width:2; stroke-opacity:0.1; fill:none\" points=\"2089.22,1423.18 2089.22,47.2441 \"/>\n",
              "<polyline clip-path=\"url(#clip460)\" style=\"stroke:#000000; stroke-linecap:round; stroke-linejoin:round; stroke-width:4; stroke-opacity:1; fill:none\" points=\"203.964,1423.18 2352.76,1423.18 \"/>\n",
              "<polyline clip-path=\"url(#clip460)\" style=\"stroke:#000000; stroke-linecap:round; stroke-linejoin:round; stroke-width:4; stroke-opacity:1; fill:none\" points=\"467.495,1423.18 467.495,1404.28 \"/>\n",
              "<polyline clip-path=\"url(#clip460)\" style=\"stroke:#000000; stroke-linecap:round; stroke-linejoin:round; stroke-width:4; stroke-opacity:1; fill:none\" points=\"872.927,1423.18 872.927,1404.28 \"/>\n",
              "<polyline clip-path=\"url(#clip460)\" style=\"stroke:#000000; stroke-linecap:round; stroke-linejoin:round; stroke-width:4; stroke-opacity:1; fill:none\" points=\"1278.36,1423.18 1278.36,1404.28 \"/>\n",
              "<polyline clip-path=\"url(#clip460)\" style=\"stroke:#000000; stroke-linecap:round; stroke-linejoin:round; stroke-width:4; stroke-opacity:1; fill:none\" points=\"1683.79,1423.18 1683.79,1404.28 \"/>\n",
              "<polyline clip-path=\"url(#clip460)\" style=\"stroke:#000000; stroke-linecap:round; stroke-linejoin:round; stroke-width:4; stroke-opacity:1; fill:none\" points=\"2089.22,1423.18 2089.22,1404.28 \"/>\n",
              "<path clip-path=\"url(#clip460)\" d=\"M436.395 1468.75 L466.071 1468.75 L466.071 1472.69 L436.395 1472.69 L436.395 1468.75 Z\" fill=\"#000000\" fill-rule=\"nonzero\" fill-opacity=\"1\" /><path clip-path=\"url(#clip460)\" d=\"M489.011 1455.09 L477.205 1473.54 L489.011 1473.54 L489.011 1455.09 M487.784 1451.02 L493.664 1451.02 L493.664 1473.54 L498.594 1473.54 L498.594 1477.43 L493.664 1477.43 L493.664 1485.58 L489.011 1485.58 L489.011 1477.43 L473.409 1477.43 L473.409 1472.92 L487.784 1451.02 Z\" fill=\"#000000\" fill-rule=\"nonzero\" fill-opacity=\"1\" /><path clip-path=\"url(#clip460)\" d=\"M842.87 1468.75 L872.545 1468.75 L872.545 1472.69 L842.87 1472.69 L842.87 1468.75 Z\" fill=\"#000000\" fill-rule=\"nonzero\" fill-opacity=\"1\" /><path clip-path=\"url(#clip460)\" d=\"M886.666 1481.64 L902.985 1481.64 L902.985 1485.58 L881.041 1485.58 L881.041 1481.64 Q883.703 1478.89 888.286 1474.26 Q892.892 1469.61 894.073 1468.27 Q896.318 1465.74 897.198 1464.01 Q898.101 1462.25 898.101 1460.56 Q898.101 1457.8 896.156 1456.07 Q894.235 1454.33 891.133 1454.33 Q888.934 1454.33 886.48 1455.09 Q884.05 1455.86 881.272 1457.41 L881.272 1452.69 Q884.096 1451.55 886.55 1450.97 Q889.004 1450.39 891.041 1450.39 Q896.411 1450.39 899.605 1453.08 Q902.8 1455.77 902.8 1460.26 Q902.8 1462.39 901.99 1464.31 Q901.203 1466.2 899.096 1468.8 Q898.517 1469.47 895.416 1472.69 Q892.314 1475.88 886.666 1481.64 Z\" fill=\"#000000\" fill-rule=\"nonzero\" fill-opacity=\"1\" /><path clip-path=\"url(#clip460)\" d=\"M1278.36 1454.1 Q1274.75 1454.1 1272.92 1457.66 Q1271.11 1461.2 1271.11 1468.33 Q1271.11 1475.44 1272.92 1479.01 Q1274.75 1482.55 1278.36 1482.55 Q1281.99 1482.55 1283.8 1479.01 Q1285.63 1475.44 1285.63 1468.33 Q1285.63 1461.2 1283.8 1457.66 Q1281.99 1454.1 1278.36 1454.1 M1278.36 1450.39 Q1284.17 1450.39 1287.23 1455 Q1290.3 1459.58 1290.3 1468.33 Q1290.3 1477.06 1287.23 1481.67 Q1284.17 1486.25 1278.36 1486.25 Q1272.55 1486.25 1269.47 1481.67 Q1266.42 1477.06 1266.42 1468.33 Q1266.42 1459.58 1269.47 1455 Q1272.55 1450.39 1278.36 1450.39 Z\" fill=\"#000000\" fill-rule=\"nonzero\" fill-opacity=\"1\" /><path clip-path=\"url(#clip460)\" d=\"M1678.45 1481.64 L1694.76 1481.64 L1694.76 1485.58 L1672.82 1485.58 L1672.82 1481.64 Q1675.48 1478.89 1680.07 1474.26 Q1684.67 1469.61 1685.85 1468.27 Q1688.1 1465.74 1688.98 1464.01 Q1689.88 1462.25 1689.88 1460.56 Q1689.88 1457.8 1687.94 1456.07 Q1686.01 1454.33 1682.91 1454.33 Q1680.71 1454.33 1678.26 1455.09 Q1675.83 1455.86 1673.05 1457.41 L1673.05 1452.69 Q1675.88 1451.55 1678.33 1450.97 Q1680.78 1450.39 1682.82 1450.39 Q1688.19 1450.39 1691.38 1453.08 Q1694.58 1455.77 1694.58 1460.26 Q1694.58 1462.39 1693.77 1464.31 Q1692.98 1466.2 1690.88 1468.8 Q1690.3 1469.47 1687.2 1472.69 Q1684.09 1475.88 1678.45 1481.64 Z\" fill=\"#000000\" fill-rule=\"nonzero\" fill-opacity=\"1\" /><path clip-path=\"url(#clip460)\" d=\"M2092.23 1455.09 L2080.43 1473.54 L2092.23 1473.54 L2092.23 1455.09 M2091.01 1451.02 L2096.89 1451.02 L2096.89 1473.54 L2101.82 1473.54 L2101.82 1477.43 L2096.89 1477.43 L2096.89 1485.58 L2092.23 1485.58 L2092.23 1477.43 L2076.63 1477.43 L2076.63 1472.92 L2091.01 1451.02 Z\" fill=\"#000000\" fill-rule=\"nonzero\" fill-opacity=\"1\" /><path clip-path=\"url(#clip460)\" d=\"M1164.32 1520.52 L1170.75 1520.52 L1170.75 1568.04 L1164.32 1568.04 L1164.32 1520.52 Z\" fill=\"#000000\" fill-rule=\"nonzero\" fill-opacity=\"1\" /><path clip-path=\"url(#clip460)\" d=\"M1212.92 1546.53 L1212.92 1568.04 L1207.06 1568.04 L1207.06 1546.72 Q1207.06 1541.66 1205.09 1539.14 Q1203.12 1536.63 1199.17 1536.63 Q1194.43 1536.63 1191.69 1539.65 Q1188.95 1542.68 1188.95 1547.9 L1188.95 1568.04 L1183.07 1568.04 L1183.07 1532.4 L1188.95 1532.4 L1188.95 1537.93 Q1191.05 1534.72 1193.89 1533.13 Q1196.75 1531.54 1200.48 1531.54 Q1206.62 1531.54 1209.77 1535.36 Q1212.92 1539.14 1212.92 1546.53 Z\" fill=\"#000000\" fill-rule=\"nonzero\" fill-opacity=\"1\" /><path clip-path=\"url(#clip460)\" d=\"M1230.39 1522.27 L1230.39 1532.4 L1242.46 1532.4 L1242.46 1536.95 L1230.39 1536.95 L1230.39 1556.3 Q1230.39 1560.66 1231.57 1561.9 Q1232.78 1563.14 1236.44 1563.14 L1242.46 1563.14 L1242.46 1568.04 L1236.44 1568.04 Q1229.66 1568.04 1227.08 1565.53 Q1224.51 1562.98 1224.51 1556.3 L1224.51 1536.95 L1220.21 1536.95 L1220.21 1532.4 L1224.51 1532.4 L1224.51 1522.27 L1230.39 1522.27 Z\" fill=\"#000000\" fill-rule=\"nonzero\" fill-opacity=\"1\" /><path clip-path=\"url(#clip460)\" d=\"M1280.65 1548.76 L1280.65 1551.62 L1253.72 1551.62 Q1254.11 1557.67 1257.35 1560.85 Q1260.63 1564 1266.46 1564 Q1269.83 1564 1272.98 1563.17 Q1276.16 1562.35 1279.28 1560.69 L1279.28 1566.23 Q1276.13 1567.57 1272.82 1568.27 Q1269.51 1568.97 1266.11 1568.97 Q1257.58 1568.97 1252.58 1564 Q1247.61 1559.04 1247.61 1550.57 Q1247.61 1541.82 1252.32 1536.69 Q1257.07 1531.54 1265.09 1531.54 Q1272.28 1531.54 1276.45 1536.18 Q1280.65 1540.8 1280.65 1548.76 M1274.79 1547.04 Q1274.73 1542.23 1272.09 1539.37 Q1269.48 1536.5 1265.15 1536.5 Q1260.25 1536.5 1257.29 1539.27 Q1254.36 1542.04 1253.92 1547.07 L1274.79 1547.04 Z\" fill=\"#000000\" fill-rule=\"nonzero\" fill-opacity=\"1\" /><path clip-path=\"url(#clip460)\" d=\"M1313.72 1549.81 Q1313.72 1543.44 1311.08 1539.94 Q1308.47 1536.44 1303.73 1536.44 Q1299.02 1536.44 1296.37 1539.94 Q1293.76 1543.44 1293.76 1549.81 Q1293.76 1556.14 1296.37 1559.64 Q1299.02 1563.14 1303.73 1563.14 Q1308.47 1563.14 1311.08 1559.64 Q1313.72 1556.14 1313.72 1549.81 M1319.58 1563.62 Q1319.58 1572.72 1315.54 1577.15 Q1311.49 1581.6 1303.15 1581.6 Q1300.07 1581.6 1297.33 1581.13 Q1294.59 1580.68 1292.01 1579.72 L1292.01 1574.03 Q1294.59 1575.43 1297.11 1576.1 Q1299.62 1576.76 1302.23 1576.76 Q1307.99 1576.76 1310.86 1573.74 Q1313.72 1570.75 1313.72 1564.67 L1313.72 1561.77 Q1311.91 1564.92 1309.07 1566.48 Q1306.24 1568.04 1302.29 1568.04 Q1295.74 1568.04 1291.73 1563.05 Q1287.72 1558.05 1287.72 1549.81 Q1287.72 1541.53 1291.73 1536.53 Q1295.74 1531.54 1302.29 1531.54 Q1306.24 1531.54 1309.07 1533.1 Q1311.91 1534.66 1313.72 1537.81 L1313.72 1532.4 L1319.58 1532.4 L1319.58 1563.62 Z\" fill=\"#000000\" fill-rule=\"nonzero\" fill-opacity=\"1\" /><path clip-path=\"url(#clip460)\" d=\"M1362.13 1548.76 L1362.13 1551.62 L1335.21 1551.62 Q1335.59 1557.67 1338.83 1560.85 Q1342.11 1564 1347.94 1564 Q1351.31 1564 1354.46 1563.17 Q1357.64 1562.35 1360.76 1560.69 L1360.76 1566.23 Q1357.61 1567.57 1354.3 1568.27 Q1350.99 1568.97 1347.59 1568.97 Q1339.06 1568.97 1334.06 1564 Q1329.09 1559.04 1329.09 1550.57 Q1329.09 1541.82 1333.81 1536.69 Q1338.55 1531.54 1346.57 1531.54 Q1353.76 1531.54 1357.93 1536.18 Q1362.13 1540.8 1362.13 1548.76 M1356.28 1547.04 Q1356.21 1542.23 1353.57 1539.37 Q1350.96 1536.5 1346.63 1536.5 Q1341.73 1536.5 1338.77 1539.27 Q1335.84 1542.04 1335.4 1547.07 L1356.28 1547.04 Z\" fill=\"#000000\" fill-rule=\"nonzero\" fill-opacity=\"1\" /><path clip-path=\"url(#clip460)\" d=\"M1392.4 1537.87 Q1391.41 1537.3 1390.24 1537.04 Q1389.09 1536.76 1387.69 1536.76 Q1382.73 1536.76 1380.05 1540 Q1377.41 1543.22 1377.41 1549.27 L1377.41 1568.04 L1371.52 1568.04 L1371.52 1532.4 L1377.41 1532.4 L1377.41 1537.93 Q1379.26 1534.69 1382.22 1533.13 Q1385.18 1531.54 1389.41 1531.54 Q1390.01 1531.54 1390.75 1531.63 Q1391.48 1531.7 1392.37 1531.85 L1392.4 1537.87 Z\" fill=\"#000000\" fill-rule=\"nonzero\" fill-opacity=\"1\" /><polyline clip-path=\"url(#clip462)\" style=\"stroke:#000000; stroke-linecap:round; stroke-linejoin:round; stroke-width:2; stroke-opacity:0.1; fill:none\" points=\"203.964,1384.24 2352.76,1384.24 \"/>\n",
              "<polyline clip-path=\"url(#clip462)\" style=\"stroke:#000000; stroke-linecap:round; stroke-linejoin:round; stroke-width:2; stroke-opacity:0.1; fill:none\" points=\"203.964,1124.63 2352.76,1124.63 \"/>\n",
              "<polyline clip-path=\"url(#clip462)\" style=\"stroke:#000000; stroke-linecap:round; stroke-linejoin:round; stroke-width:2; stroke-opacity:0.1; fill:none\" points=\"203.964,865.017 2352.76,865.017 \"/>\n",
              "<polyline clip-path=\"url(#clip462)\" style=\"stroke:#000000; stroke-linecap:round; stroke-linejoin:round; stroke-width:2; stroke-opacity:0.1; fill:none\" points=\"203.964,605.407 2352.76,605.407 \"/>\n",
              "<polyline clip-path=\"url(#clip462)\" style=\"stroke:#000000; stroke-linecap:round; stroke-linejoin:round; stroke-width:2; stroke-opacity:0.1; fill:none\" points=\"203.964,345.796 2352.76,345.796 \"/>\n",
              "<polyline clip-path=\"url(#clip462)\" style=\"stroke:#000000; stroke-linecap:round; stroke-linejoin:round; stroke-width:2; stroke-opacity:0.1; fill:none\" points=\"203.964,86.1857 2352.76,86.1857 \"/>\n",
              "<polyline clip-path=\"url(#clip460)\" style=\"stroke:#000000; stroke-linecap:round; stroke-linejoin:round; stroke-width:4; stroke-opacity:1; fill:none\" points=\"203.964,1423.18 203.964,47.2441 \"/>\n",
              "<polyline clip-path=\"url(#clip460)\" style=\"stroke:#000000; stroke-linecap:round; stroke-linejoin:round; stroke-width:4; stroke-opacity:1; fill:none\" points=\"203.964,1384.24 222.861,1384.24 \"/>\n",
              "<polyline clip-path=\"url(#clip460)\" style=\"stroke:#000000; stroke-linecap:round; stroke-linejoin:round; stroke-width:4; stroke-opacity:1; fill:none\" points=\"203.964,1124.63 222.861,1124.63 \"/>\n",
              "<polyline clip-path=\"url(#clip460)\" style=\"stroke:#000000; stroke-linecap:round; stroke-linejoin:round; stroke-width:4; stroke-opacity:1; fill:none\" points=\"203.964,865.017 222.861,865.017 \"/>\n",
              "<polyline clip-path=\"url(#clip460)\" style=\"stroke:#000000; stroke-linecap:round; stroke-linejoin:round; stroke-width:4; stroke-opacity:1; fill:none\" points=\"203.964,605.407 222.861,605.407 \"/>\n",
              "<polyline clip-path=\"url(#clip460)\" style=\"stroke:#000000; stroke-linecap:round; stroke-linejoin:round; stroke-width:4; stroke-opacity:1; fill:none\" points=\"203.964,345.796 222.861,345.796 \"/>\n",
              "<polyline clip-path=\"url(#clip460)\" style=\"stroke:#000000; stroke-linecap:round; stroke-linejoin:round; stroke-width:4; stroke-opacity:1; fill:none\" points=\"203.964,86.1857 222.861,86.1857 \"/>\n",
              "<path clip-path=\"url(#clip460)\" d=\"M156.019 1370.04 Q152.408 1370.04 150.579 1373.6 Q148.774 1377.14 148.774 1384.27 Q148.774 1391.38 150.579 1394.94 Q152.408 1398.49 156.019 1398.49 Q159.653 1398.49 161.459 1394.94 Q163.288 1391.38 163.288 1384.27 Q163.288 1377.14 161.459 1373.6 Q159.653 1370.04 156.019 1370.04 M156.019 1366.33 Q161.829 1366.33 164.885 1370.94 Q167.964 1375.52 167.964 1384.27 Q167.964 1393 164.885 1397.61 Q161.829 1402.19 156.019 1402.19 Q150.209 1402.19 147.13 1397.61 Q144.075 1393 144.075 1384.27 Q144.075 1375.52 147.13 1370.94 Q150.209 1366.33 156.019 1366.33 Z\" fill=\"#000000\" fill-rule=\"nonzero\" fill-opacity=\"1\" /><path clip-path=\"url(#clip460)\" d=\"M147.061 1107.35 L165.417 1107.35 L165.417 1111.28 L151.343 1111.28 L151.343 1119.76 Q152.362 1119.41 153.38 1119.25 Q154.399 1119.06 155.417 1119.06 Q161.204 1119.06 164.584 1122.23 Q167.964 1125.4 167.964 1130.82 Q167.964 1136.4 164.491 1139.5 Q161.019 1142.58 154.7 1142.58 Q152.524 1142.58 150.255 1142.21 Q148.01 1141.84 145.603 1141.1 L145.603 1136.4 Q147.686 1137.53 149.908 1138.09 Q152.13 1138.64 154.607 1138.64 Q158.612 1138.64 160.95 1136.54 Q163.288 1134.43 163.288 1130.82 Q163.288 1127.21 160.95 1125.1 Q158.612 1123 154.607 1123 Q152.732 1123 150.857 1123.41 Q149.005 1123.83 147.061 1124.71 L147.061 1107.35 Z\" fill=\"#000000\" fill-rule=\"nonzero\" fill-opacity=\"1\" /><path clip-path=\"url(#clip460)\" d=\"M116.668 878.362 L124.306 878.362 L124.306 851.996 L115.996 853.663 L115.996 849.404 L124.26 847.737 L128.936 847.737 L128.936 878.362 L136.575 878.362 L136.575 882.297 L116.668 882.297 L116.668 878.362 Z\" fill=\"#000000\" fill-rule=\"nonzero\" fill-opacity=\"1\" /><path clip-path=\"url(#clip460)\" d=\"M156.019 850.816 Q152.408 850.816 150.579 854.381 Q148.774 857.922 148.774 865.052 Q148.774 872.158 150.579 875.723 Q152.408 879.265 156.019 879.265 Q159.653 879.265 161.459 875.723 Q163.288 872.158 163.288 865.052 Q163.288 857.922 161.459 854.381 Q159.653 850.816 156.019 850.816 M156.019 847.112 Q161.829 847.112 164.885 851.719 Q167.964 856.302 167.964 865.052 Q167.964 873.779 164.885 878.385 Q161.829 882.969 156.019 882.969 Q150.209 882.969 147.13 878.385 Q144.075 873.779 144.075 865.052 Q144.075 856.302 147.13 851.719 Q150.209 847.112 156.019 847.112 Z\" fill=\"#000000\" fill-rule=\"nonzero\" fill-opacity=\"1\" /><path clip-path=\"url(#clip460)\" d=\"M117.663 618.752 L125.302 618.752 L125.302 592.386 L116.992 594.053 L116.992 589.793 L125.255 588.127 L129.931 588.127 L129.931 618.752 L137.57 618.752 L137.57 622.687 L117.663 622.687 L117.663 618.752 Z\" fill=\"#000000\" fill-rule=\"nonzero\" fill-opacity=\"1\" /><path clip-path=\"url(#clip460)\" d=\"M147.061 588.127 L165.417 588.127 L165.417 592.062 L151.343 592.062 L151.343 600.534 Q152.362 600.187 153.38 600.025 Q154.399 599.84 155.417 599.84 Q161.204 599.84 164.584 603.011 Q167.964 606.182 167.964 611.599 Q167.964 617.177 164.491 620.279 Q161.019 623.358 154.7 623.358 Q152.524 623.358 150.255 622.988 Q148.01 622.617 145.603 621.877 L145.603 617.177 Q147.686 618.312 149.908 618.867 Q152.13 619.423 154.607 619.423 Q158.612 619.423 160.95 617.316 Q163.288 615.21 163.288 611.599 Q163.288 607.988 160.95 605.881 Q158.612 603.775 154.607 603.775 Q152.732 603.775 150.857 604.191 Q149.005 604.608 147.061 605.488 L147.061 588.127 Z\" fill=\"#000000\" fill-rule=\"nonzero\" fill-opacity=\"1\" /><path clip-path=\"url(#clip460)\" d=\"M119.885 359.141 L136.204 359.141 L136.204 363.076 L114.26 363.076 L114.26 359.141 Q116.922 356.386 121.505 351.757 Q126.112 347.104 127.292 345.761 Q129.538 343.238 130.417 341.502 Q131.32 339.743 131.32 338.053 Q131.32 335.299 129.376 333.562 Q127.455 331.826 124.353 331.826 Q122.154 331.826 119.7 332.59 Q117.269 333.354 114.492 334.905 L114.492 330.183 Q117.316 329.049 119.769 328.47 Q122.223 327.891 124.26 327.891 Q129.63 327.891 132.825 330.576 Q136.019 333.262 136.019 337.752 Q136.019 339.882 135.209 341.803 Q134.422 343.701 132.316 346.294 Q131.737 346.965 128.635 350.183 Q125.533 353.377 119.885 359.141 Z\" fill=\"#000000\" fill-rule=\"nonzero\" fill-opacity=\"1\" /><path clip-path=\"url(#clip460)\" d=\"M156.019 331.595 Q152.408 331.595 150.579 335.16 Q148.774 338.701 148.774 345.831 Q148.774 352.937 150.579 356.502 Q152.408 360.044 156.019 360.044 Q159.653 360.044 161.459 356.502 Q163.288 352.937 163.288 345.831 Q163.288 338.701 161.459 335.16 Q159.653 331.595 156.019 331.595 M156.019 327.891 Q161.829 327.891 164.885 332.498 Q167.964 337.081 167.964 345.831 Q167.964 354.558 164.885 359.164 Q161.829 363.747 156.019 363.747 Q150.209 363.747 147.13 359.164 Q144.075 354.558 144.075 345.831 Q144.075 337.081 147.13 332.498 Q150.209 327.891 156.019 327.891 Z\" fill=\"#000000\" fill-rule=\"nonzero\" fill-opacity=\"1\" /><path clip-path=\"url(#clip460)\" d=\"M120.88 99.5305 L137.2 99.5305 L137.2 103.466 L115.256 103.466 L115.256 99.5305 Q117.918 96.7759 122.501 92.1463 Q127.107 87.4935 128.288 86.151 Q130.533 83.6278 131.413 81.8917 Q132.316 80.1325 132.316 78.4427 Q132.316 75.688 130.371 73.9519 Q128.45 72.2158 125.348 72.2158 Q123.149 72.2158 120.695 72.9797 Q118.265 73.7436 115.487 75.2945 L115.487 70.5723 Q118.311 69.4381 120.765 68.8594 Q123.218 68.2807 125.255 68.2807 Q130.626 68.2807 133.82 70.9658 Q137.015 73.651 137.015 78.1417 Q137.015 80.2714 136.204 82.1926 Q135.417 84.0908 133.311 86.6834 Q132.732 87.3546 129.63 90.5722 Q126.529 93.7667 120.88 99.5305 Z\" fill=\"#000000\" fill-rule=\"nonzero\" fill-opacity=\"1\" /><path clip-path=\"url(#clip460)\" d=\"M147.061 68.9057 L165.417 68.9057 L165.417 72.8408 L151.343 72.8408 L151.343 81.313 Q152.362 80.9658 153.38 80.8038 Q154.399 80.6186 155.417 80.6186 Q161.204 80.6186 164.584 83.7899 Q167.964 86.9611 167.964 92.3778 Q167.964 97.9564 164.491 101.058 Q161.019 104.137 154.7 104.137 Q152.524 104.137 150.255 103.767 Q148.01 103.396 145.603 102.655 L145.603 97.9564 Q147.686 99.0907 149.908 99.6462 Q152.13 100.202 154.607 100.202 Q158.612 100.202 160.95 98.0953 Q163.288 95.9889 163.288 92.3778 Q163.288 88.7667 160.95 86.6602 Q158.612 84.5537 154.607 84.5537 Q152.732 84.5537 150.857 84.9704 Q149.005 85.3871 147.061 86.2667 L147.061 68.9057 Z\" fill=\"#000000\" fill-rule=\"nonzero\" fill-opacity=\"1\" /><path clip-path=\"url(#clip460)\" d=\"M18.0438 986.594 L24.314 986.594 Q22.5634 990.254 21.704 993.501 Q20.8447 996.747 20.8447 999.771 Q20.8447 1005.02 22.8817 1007.89 Q24.9187 1010.72 28.6745 1010.72 Q31.8255 1010.72 33.4488 1008.84 Q35.0402 1006.93 36.0269 1001.65 L36.8226 997.766 Q38.1912 990.572 41.6605 987.167 Q45.098 983.729 50.8908 983.729 Q57.7976 983.729 61.3624 988.376 Q64.9272 992.991 64.9272 1001.94 Q64.9272 1005.31 64.1633 1009.13 Q63.3994 1012.92 61.9035 1016.99 L55.2831 1016.99 Q57.4793 1013.08 58.5933 1009.32 Q59.7073 1005.56 59.7073 1001.94 Q59.7073 996.429 57.543 993.437 Q55.3786 990.445 51.3682 990.445 Q47.8671 990.445 45.8937 992.609 Q43.9204 994.742 42.9337 999.643 L42.1698 1003.56 Q40.7375 1010.75 37.682 1013.97 Q34.6264 1017.18 29.1837 1017.18 Q22.8817 1017.18 19.2532 1012.76 Q15.6248 1008.3 15.6248 1000.5 Q15.6248 997.161 16.2295 993.691 Q16.8343 990.222 18.0438 986.594 Z\" fill=\"#000000\" fill-rule=\"nonzero\" fill-opacity=\"1\" /><path clip-path=\"url(#clip460)\" d=\"M46.212 970.457 Q52.6732 970.457 56.3653 967.815 Q60.0256 965.141 60.0256 960.494 Q60.0256 955.847 56.3653 953.174 Q52.6732 950.5 46.212 950.5 Q39.7508 950.5 36.0905 953.174 Q32.3984 955.847 32.3984 960.494 Q32.3984 965.141 36.0905 967.815 Q39.7508 970.457 46.212 970.457 M58.657 950.5 Q61.8398 952.346 63.3994 955.179 Q64.9272 957.98 64.9272 961.927 Q64.9272 968.388 59.771 972.462 Q54.6147 976.504 46.212 976.504 Q37.8093 976.504 32.6531 972.462 Q27.4968 968.388 27.4968 961.927 Q27.4968 957.98 29.0564 955.179 Q30.5842 952.346 33.7671 950.5 L28.3562 950.5 L28.3562 944.644 L77.5631 944.644 L77.5631 950.5 L58.657 950.5 Z\" fill=\"#000000\" fill-rule=\"nonzero\" fill-opacity=\"1\" /><path clip-path=\"url(#clip460)\" d=\"M49.9359 933.185 L28.3562 933.185 L28.3562 927.329 L49.7131 927.329 Q54.7739 927.329 57.3202 925.356 Q59.8346 923.382 59.8346 919.436 Q59.8346 914.693 56.8109 911.956 Q53.7872 909.187 48.5673 909.187 L28.3562 909.187 L28.3562 903.33 L64.0042 903.33 L64.0042 909.187 L58.5296 909.187 Q61.7762 911.319 63.3676 914.152 Q64.9272 916.953 64.9272 920.677 Q64.9272 926.82 61.1078 930.003 Q57.2883 933.185 49.9359 933.185 M27.4968 918.449 L27.4968 918.449 Z\" fill=\"#000000\" fill-rule=\"nonzero\" fill-opacity=\"1\" /><path clip-path=\"url(#clip460)\" d=\"M46.0847 875.067 Q46.0847 882.164 47.7079 884.902 Q49.3312 887.639 53.2461 887.639 Q56.3653 887.639 58.2114 885.602 Q60.0256 883.533 60.0256 880 Q60.0256 875.13 56.5881 872.202 Q53.1188 869.242 47.3897 869.242 L46.0847 869.242 L46.0847 875.067 M43.6657 863.385 L64.0042 863.385 L64.0042 869.242 L58.5933 869.242 Q61.8398 871.247 63.3994 874.239 Q64.9272 877.231 64.9272 881.56 Q64.9272 887.034 61.8716 890.281 Q58.7843 893.495 53.6281 893.495 Q47.6125 893.495 44.5569 889.485 Q41.5014 885.443 41.5014 877.454 L41.5014 869.242 L40.9285 869.242 Q36.8862 869.242 34.6901 871.916 Q32.4621 874.557 32.4621 879.363 Q32.4621 882.419 33.1941 885.315 Q33.9262 888.212 35.3903 890.885 L29.9795 890.885 Q28.7381 887.671 28.1334 884.647 Q27.4968 881.623 27.4968 878.759 Q27.4968 871.024 31.5072 867.205 Q35.5176 863.385 43.6657 863.385 Z\" fill=\"#000000\" fill-rule=\"nonzero\" fill-opacity=\"1\" /><path clip-path=\"url(#clip460)\" d=\"M33.8307 830.666 Q33.2578 831.652 33.0032 832.83 Q32.7167 833.976 32.7167 835.376 Q32.7167 840.342 35.9632 843.015 Q39.1779 845.657 45.2253 845.657 L64.0042 845.657 L64.0042 851.545 L28.3562 851.545 L28.3562 845.657 L33.8944 845.657 Q30.6479 843.811 29.0883 840.851 Q27.4968 837.891 27.4968 833.658 Q27.4968 833.053 27.5923 832.321 Q27.656 831.589 27.8151 830.698 L33.8307 830.666 Z\" fill=\"#000000\" fill-rule=\"nonzero\" fill-opacity=\"1\" /><path clip-path=\"url(#clip460)\" d=\"M44.7161 795.463 L47.5806 795.463 L47.5806 822.39 Q53.6281 822.008 56.8109 818.762 Q59.9619 815.484 59.9619 809.659 Q59.9619 806.285 59.1344 803.134 Q58.3069 799.951 56.6518 796.832 L62.1899 796.832 Q63.5267 799.983 64.227 803.293 Q64.9272 806.603 64.9272 810.009 Q64.9272 818.539 59.9619 823.536 Q54.9967 828.501 46.5303 828.501 Q37.7774 828.501 32.6531 823.791 Q27.4968 819.048 27.4968 811.028 Q27.4968 803.834 32.1438 799.665 Q36.7589 795.463 44.7161 795.463 M42.9973 801.32 Q38.1912 801.383 35.3266 804.025 Q32.4621 806.635 32.4621 810.964 Q32.4621 815.865 35.2312 818.826 Q38.0002 821.754 43.0292 822.199 L42.9973 801.32 Z\" fill=\"#000000\" fill-rule=\"nonzero\" fill-opacity=\"1\" /><path clip-path=\"url(#clip460)\" d=\"M32.4621 751.317 Q32.4621 756.028 36.1542 758.765 Q39.8145 761.502 46.212 761.502 Q52.6095 761.502 56.3017 758.797 Q59.9619 756.06 59.9619 751.317 Q59.9619 746.638 56.2698 743.901 Q52.5777 741.164 46.212 741.164 Q39.8781 741.164 36.186 743.901 Q32.4621 746.638 32.4621 751.317 M27.4968 751.317 Q27.4968 743.678 32.4621 739.318 Q37.4273 734.957 46.212 734.957 Q54.9649 734.957 59.9619 739.318 Q64.9272 743.678 64.9272 751.317 Q64.9272 758.988 59.9619 763.348 Q54.9649 767.677 46.212 767.677 Q37.4273 767.677 32.4621 763.348 Q27.4968 758.988 27.4968 751.317 Z\" fill=\"#000000\" fill-rule=\"nonzero\" fill-opacity=\"1\" /><path clip-path=\"url(#clip460)\" d=\"M14.479 707.203 L19.3487 707.203 L19.3487 712.805 Q19.3487 715.956 20.6219 717.197 Q21.895 718.407 25.2052 718.407 L28.3562 718.407 L28.3562 708.762 L32.9077 708.762 L32.9077 718.407 L64.0042 718.407 L64.0042 724.295 L32.9077 724.295 L32.9077 729.897 L28.3562 729.897 L28.3562 724.295 L25.8736 724.295 Q19.9216 724.295 17.2162 721.526 Q14.479 718.757 14.479 712.741 L14.479 707.203 Z\" fill=\"#000000\" fill-rule=\"nonzero\" fill-opacity=\"1\" /><path clip-path=\"url(#clip460)\" d=\"M16.4842 681.326 L16.4842 674.897 L64.0042 674.897 L64.0042 681.326 L16.4842 681.326 Z\" fill=\"#000000\" fill-rule=\"nonzero\" fill-opacity=\"1\" /><path clip-path=\"url(#clip460)\" d=\"M42.4881 632.724 L64.0042 632.724 L64.0042 638.581 L42.679 638.581 Q37.6183 638.581 35.1038 640.554 Q32.5894 642.527 32.5894 646.474 Q32.5894 651.216 35.6131 653.954 Q38.6368 656.691 43.8567 656.691 L64.0042 656.691 L64.0042 662.579 L28.3562 662.579 L28.3562 656.691 L33.8944 656.691 Q30.6797 654.59 29.0883 651.758 Q27.4968 648.893 27.4968 645.169 Q27.4968 639.026 31.3163 635.875 Q35.1038 632.724 42.4881 632.724 Z\" fill=\"#000000\" fill-rule=\"nonzero\" fill-opacity=\"1\" /><path clip-path=\"url(#clip460)\" d=\"M18.2347 615.25 L28.3562 615.25 L28.3562 603.187 L32.9077 603.187 L32.9077 615.25 L52.2594 615.25 Q56.6199 615.25 57.8613 614.073 Q59.1026 612.863 59.1026 609.203 L59.1026 603.187 L64.0042 603.187 L64.0042 609.203 Q64.0042 615.982 61.4897 618.56 Q58.9434 621.139 52.2594 621.139 L32.9077 621.139 L32.9077 625.435 L28.3562 625.435 L28.3562 621.139 L18.2347 621.139 L18.2347 615.25 Z\" fill=\"#000000\" fill-rule=\"nonzero\" fill-opacity=\"1\" /><path clip-path=\"url(#clip460)\" d=\"M44.7161 564.993 L47.5806 564.993 L47.5806 591.92 Q53.6281 591.538 56.8109 588.291 Q59.9619 585.013 59.9619 579.188 Q59.9619 575.815 59.1344 572.664 Q58.3069 569.481 56.6518 566.362 L62.1899 566.362 Q63.5267 569.513 64.227 572.823 Q64.9272 576.133 64.9272 579.539 Q64.9272 588.069 59.9619 593.066 Q54.9967 598.031 46.5303 598.031 Q37.7774 598.031 32.6531 593.32 Q27.4968 588.578 27.4968 580.557 Q27.4968 573.364 32.1438 569.194 Q36.7589 564.993 44.7161 564.993 M42.9973 570.849 Q38.1912 570.913 35.3266 573.555 Q32.4621 576.165 32.4621 580.493 Q32.4621 585.395 35.2312 588.355 Q38.0002 591.283 43.0292 591.729 L42.9973 570.849 Z\" fill=\"#000000\" fill-rule=\"nonzero\" fill-opacity=\"1\" /><path clip-path=\"url(#clip460)\" d=\"M45.7664 531.923 Q39.4007 531.923 35.8996 534.565 Q32.3984 537.175 32.3984 541.917 Q32.3984 546.628 35.8996 549.27 Q39.4007 551.88 45.7664 551.88 Q52.1003 551.88 55.6014 549.27 Q59.1026 546.628 59.1026 541.917 Q59.1026 537.175 55.6014 534.565 Q52.1003 531.923 45.7664 531.923 M59.58 526.067 Q68.683 526.067 73.1071 530.109 Q77.5631 534.151 77.5631 542.49 Q77.5631 545.578 77.0857 548.315 Q76.6401 551.052 75.6852 553.63 L69.9879 553.63 Q71.3884 551.052 72.0568 548.538 Q72.7252 546.023 72.7252 543.413 Q72.7252 537.652 69.7015 534.788 Q66.7096 531.923 60.6303 531.923 L57.7339 531.923 Q60.885 533.737 62.4446 536.57 Q64.0042 539.403 64.0042 543.35 Q64.0042 549.906 59.0071 553.917 Q54.01 557.927 45.7664 557.927 Q37.491 557.927 32.4939 553.917 Q27.4968 549.906 27.4968 543.35 Q27.4968 539.403 29.0564 536.57 Q30.616 533.737 33.7671 531.923 L28.3562 531.923 L28.3562 526.067 L59.58 526.067 Z\" fill=\"#000000\" fill-rule=\"nonzero\" fill-opacity=\"1\" /><path clip-path=\"url(#clip460)\" d=\"M44.7161 483.512 L47.5806 483.512 L47.5806 510.439 Q53.6281 510.057 56.8109 506.81 Q59.9619 503.532 59.9619 497.707 Q59.9619 494.334 59.1344 491.183 Q58.3069 488 56.6518 484.881 L62.1899 484.881 Q63.5267 488.032 64.227 491.342 Q64.9272 494.652 64.9272 498.058 Q64.9272 506.588 59.9619 511.585 Q54.9967 516.55 46.5303 516.55 Q37.7774 516.55 32.6531 511.839 Q27.4968 507.097 27.4968 499.076 Q27.4968 491.883 32.1438 487.713 Q36.7589 483.512 44.7161 483.512 M42.9973 489.368 Q38.1912 489.432 35.3266 492.074 Q32.4621 494.684 32.4621 499.012 Q32.4621 503.914 35.2312 506.874 Q38.0002 509.802 43.0292 510.248 L42.9973 489.368 Z\" fill=\"#000000\" fill-rule=\"nonzero\" fill-opacity=\"1\" /><path clip-path=\"url(#clip460)\" d=\"M33.8307 453.243 Q33.2578 454.23 33.0032 455.407 Q32.7167 456.553 32.7167 457.954 Q32.7167 462.919 35.9632 465.592 Q39.1779 468.234 45.2253 468.234 L64.0042 468.234 L64.0042 474.123 L28.3562 474.123 L28.3562 468.234 L33.8944 468.234 Q30.6479 466.388 29.0883 463.428 Q27.4968 460.468 27.4968 456.235 Q27.4968 455.63 27.5923 454.898 Q27.656 454.166 27.8151 453.275 L33.8307 453.243 Z\" fill=\"#000000\" fill-rule=\"nonzero\" fill-opacity=\"1\" /><polyline clip-path=\"url(#clip462)\" style=\"stroke:#009af9; stroke-linecap:round; stroke-linejoin:round; stroke-width:4; stroke-opacity:1; fill:none\" points=\"264.778,86.1857 467.495,553.485 670.211,916.939 872.927,1176.55 1075.64,1332.32 1278.36,1384.24 1481.08,1332.32 1683.79,1176.55 1886.51,916.939 2089.22,553.485 2291.94,86.1857 264.778,86.1857 467.495,553.485 670.211,916.939 872.927,1176.55 1075.64,1332.32 1278.36,1384.24 1481.08,1332.32 1683.79,1176.55 1886.51,916.939 2089.22,553.485 2291.94,86.1857 264.778,86.1857 467.495,553.485 670.211,916.939 872.927,1176.55 1075.64,1332.32 1278.36,1384.24 1481.08,1332.32 1683.79,1176.55 1886.51,916.939 2089.22,553.485 2291.94,86.1857 264.778,86.1857 467.495,553.485 670.211,916.939 872.927,1176.55 1075.64,1332.32 1278.36,1384.24 1481.08,1332.32 1683.79,1176.55 1886.51,916.939 2089.22,553.485 2291.94,86.1857 264.778,86.1857 467.495,553.485 670.211,916.939 872.927,1176.55 1075.64,1332.32 1278.36,1384.24 1481.08,1332.32 1683.79,1176.55 1886.51,916.939 2089.22,553.485 2291.94,86.1857 264.778,86.1857 467.495,553.485 670.211,916.939 872.927,1176.55 1075.64,1332.32 1278.36,1384.24 1481.08,1332.32 1683.79,1176.55 1886.51,916.939 2089.22,553.485 2291.94,86.1857 264.778,86.1857 467.495,553.485 670.211,916.939 872.927,1176.55 1075.64,1332.32 1278.36,1384.24 1481.08,1332.32 1683.79,1176.55 1886.51,916.939 2089.22,553.485 2291.94,86.1857 264.778,86.1857 467.495,553.485 670.211,916.939 872.927,1176.55 1075.64,1332.32 1278.36,1384.24 1481.08,1332.32 1683.79,1176.55 1886.51,916.939 2089.22,553.485 2291.94,86.1857 264.778,86.1857 467.495,553.485 670.211,916.939 872.927,1176.55 1075.64,1332.32 1278.36,1384.24 1481.08,1332.32 1683.79,1176.55 1886.51,916.939 2089.22,553.485 2291.94,86.1857 264.778,86.1857 467.495,553.485 670.211,916.939 872.927,1176.55 1075.64,1332.32 1278.36,1384.24 1481.08,1332.32 1683.79,1176.55 1886.51,916.939 2089.22,553.485 2291.94,86.1857 264.778,86.1857 467.495,553.485 670.211,916.939 872.927,1176.55 1075.64,1332.32 1278.36,1384.24 1481.08,1332.32 1683.79,1176.55 1886.51,916.939 2089.22,553.485 2291.94,86.1857 \"/>\n",
              "<path clip-path=\"url(#clip460)\" d=\"M1633.73 1377.32 L2281.13 1377.32 L2281.13 1273.64 L1633.73 1273.64  Z\" fill=\"#ffffff\" fill-rule=\"evenodd\" fill-opacity=\"1\"/>\n",
              "<polyline clip-path=\"url(#clip460)\" style=\"stroke:#000000; stroke-linecap:round; stroke-linejoin:round; stroke-width:4; stroke-opacity:1; fill:none\" points=\"1633.73,1377.32 2281.13,1377.32 2281.13,1273.64 1633.73,1273.64 1633.73,1377.32 \"/>\n",
              "<polyline clip-path=\"url(#clip460)\" style=\"stroke:#009af9; stroke-linecap:round; stroke-linejoin:round; stroke-width:4; stroke-opacity:1; fill:none\" points=\"1657.6,1325.48 1800.86,1325.48 \"/>\n",
              "<path clip-path=\"url(#clip460)\" d=\"M1846.98 1309.33 L1846.98 1313.89 Q1844.32 1312.62 1841.96 1311.99 Q1839.59 1311.37 1837.4 1311.37 Q1833.58 1311.37 1831.49 1312.85 Q1829.43 1314.33 1829.43 1317.06 Q1829.43 1319.35 1830.8 1320.53 Q1832.19 1321.69 1836.03 1322.41 L1838.85 1322.99 Q1844.08 1323.98 1846.56 1326.51 Q1849.06 1329.01 1849.06 1333.22 Q1849.06 1338.24 1845.68 1340.83 Q1842.33 1343.43 1835.82 1343.43 Q1833.37 1343.43 1830.59 1342.87 Q1827.84 1342.32 1824.87 1341.23 L1824.87 1336.41 Q1827.72 1338.01 1830.45 1338.82 Q1833.18 1339.63 1835.82 1339.63 Q1839.83 1339.63 1842 1338.06 Q1844.18 1336.48 1844.18 1333.57 Q1844.18 1331.02 1842.6 1329.58 Q1841.05 1328.15 1837.49 1327.43 L1834.64 1326.88 Q1829.41 1325.83 1827.07 1323.61 Q1824.73 1321.39 1824.73 1317.43 Q1824.73 1312.85 1827.95 1310.21 Q1831.19 1307.57 1836.86 1307.57 Q1839.29 1307.57 1841.82 1308.01 Q1844.34 1308.45 1846.98 1309.33 Z\" fill=\"#000000\" fill-rule=\"nonzero\" fill-opacity=\"1\" /><path clip-path=\"url(#clip460)\" d=\"M1858.71 1329.82 Q1858.71 1334.51 1860.64 1337.2 Q1862.58 1339.86 1865.96 1339.86 Q1869.34 1339.86 1871.28 1337.2 Q1873.23 1334.51 1873.23 1329.82 Q1873.23 1325.12 1871.28 1322.45 Q1869.34 1319.77 1865.96 1319.77 Q1862.58 1319.77 1860.64 1322.45 Q1858.71 1325.12 1858.71 1329.82 M1873.23 1338.87 Q1871.89 1341.18 1869.83 1342.32 Q1867.79 1343.43 1864.92 1343.43 Q1860.22 1343.43 1857.26 1339.68 Q1854.32 1335.93 1854.32 1329.82 Q1854.32 1323.7 1857.26 1319.95 Q1860.22 1316.2 1864.92 1316.2 Q1867.79 1316.2 1869.83 1317.34 Q1871.89 1318.45 1873.23 1320.76 L1873.23 1316.83 L1877.49 1316.83 L1877.49 1352.62 L1873.23 1352.62 L1873.23 1338.87 Z\" fill=\"#000000\" fill-rule=\"nonzero\" fill-opacity=\"1\" /><path clip-path=\"url(#clip460)\" d=\"M1885.82 1332.52 L1885.82 1316.83 L1890.08 1316.83 L1890.08 1332.36 Q1890.08 1336.04 1891.52 1337.89 Q1892.95 1339.72 1895.82 1339.72 Q1899.27 1339.72 1901.26 1337.52 Q1903.27 1335.32 1903.27 1331.53 L1903.27 1316.83 L1907.53 1316.83 L1907.53 1342.76 L1903.27 1342.76 L1903.27 1338.77 Q1901.72 1341.13 1899.66 1342.29 Q1897.63 1343.43 1894.92 1343.43 Q1890.45 1343.43 1888.14 1340.65 Q1885.82 1337.87 1885.82 1332.52 M1896.54 1316.2 L1896.54 1316.2 Z\" fill=\"#000000\" fill-rule=\"nonzero\" fill-opacity=\"1\" /><path clip-path=\"url(#clip460)\" d=\"M1928.09 1329.72 Q1922.93 1329.72 1920.94 1330.9 Q1918.95 1332.08 1918.95 1334.93 Q1918.95 1337.2 1920.43 1338.54 Q1921.93 1339.86 1924.5 1339.86 Q1928.04 1339.86 1930.17 1337.36 Q1932.33 1334.84 1932.33 1330.67 L1932.33 1329.72 L1928.09 1329.72 M1936.58 1327.96 L1936.58 1342.76 L1932.33 1342.76 L1932.33 1338.82 Q1930.87 1341.18 1928.69 1342.32 Q1926.52 1343.43 1923.37 1343.43 Q1919.39 1343.43 1917.02 1341.2 Q1914.69 1338.96 1914.69 1335.21 Q1914.69 1330.83 1917.6 1328.61 Q1920.54 1326.39 1926.35 1326.39 L1932.33 1326.39 L1932.33 1325.97 Q1932.33 1323.03 1930.38 1321.44 Q1928.46 1319.82 1924.96 1319.82 Q1922.74 1319.82 1920.64 1320.35 Q1918.53 1320.88 1916.58 1321.95 L1916.58 1318.01 Q1918.92 1317.11 1921.12 1316.67 Q1923.32 1316.2 1925.4 1316.2 Q1931.03 1316.2 1933.81 1319.12 Q1936.58 1322.04 1936.58 1327.96 Z\" fill=\"#000000\" fill-rule=\"nonzero\" fill-opacity=\"1\" /><path clip-path=\"url(#clip460)\" d=\"M1960.38 1320.81 Q1959.66 1320.39 1958.81 1320.21 Q1957.97 1320 1956.95 1320 Q1953.34 1320 1951.4 1322.36 Q1949.48 1324.7 1949.48 1329.1 L1949.48 1342.76 L1945.2 1342.76 L1945.2 1316.83 L1949.48 1316.83 L1949.48 1320.86 Q1950.82 1318.5 1952.97 1317.36 Q1955.13 1316.2 1958.2 1316.2 Q1958.64 1316.2 1959.18 1316.27 Q1959.71 1316.32 1960.36 1316.44 L1960.38 1320.81 Z\" fill=\"#000000\" fill-rule=\"nonzero\" fill-opacity=\"1\" /><path clip-path=\"url(#clip460)\" d=\"M1985.98 1328.73 L1985.98 1330.81 L1966.4 1330.81 Q1966.68 1335.21 1969.04 1337.52 Q1971.42 1339.82 1975.66 1339.82 Q1978.11 1339.82 1980.4 1339.21 Q1982.72 1338.61 1984.99 1337.41 L1984.99 1341.44 Q1982.7 1342.41 1980.29 1342.92 Q1977.88 1343.43 1975.4 1343.43 Q1969.2 1343.43 1965.57 1339.82 Q1961.95 1336.2 1961.95 1330.05 Q1961.95 1323.68 1965.38 1319.95 Q1968.83 1316.2 1974.66 1316.2 Q1979.89 1316.2 1982.93 1319.58 Q1985.98 1322.94 1985.98 1328.73 M1981.72 1327.48 Q1981.68 1323.98 1979.76 1321.9 Q1977.86 1319.82 1974.71 1319.82 Q1971.14 1319.82 1968.99 1321.83 Q1966.86 1323.84 1966.54 1327.5 L1981.72 1327.48 Z\" fill=\"#000000\" fill-rule=\"nonzero\" fill-opacity=\"1\" /><path clip-path=\"url(#clip460)\" d=\"M2018.09 1319.82 Q2014.66 1319.82 2012.67 1322.5 Q2010.68 1325.16 2010.68 1329.82 Q2010.68 1334.47 2012.65 1337.15 Q2014.64 1339.82 2018.09 1339.82 Q2021.49 1339.82 2023.48 1337.13 Q2025.47 1334.45 2025.47 1329.82 Q2025.47 1325.21 2023.48 1322.52 Q2021.49 1319.82 2018.09 1319.82 M2018.09 1316.2 Q2023.64 1316.2 2026.82 1319.82 Q2029.99 1323.43 2029.99 1329.82 Q2029.99 1336.18 2026.82 1339.82 Q2023.64 1343.43 2018.09 1343.43 Q2012.51 1343.43 2009.34 1339.82 Q2006.19 1336.18 2006.19 1329.82 Q2006.19 1323.43 2009.34 1319.82 Q2012.51 1316.2 2018.09 1316.2 Z\" fill=\"#000000\" fill-rule=\"nonzero\" fill-opacity=\"1\" /><path clip-path=\"url(#clip460)\" d=\"M2050.17 1306.74 L2050.17 1310.28 L2046.1 1310.28 Q2043.81 1310.28 2042.9 1311.2 Q2042.02 1312.13 2042.02 1314.54 L2042.02 1316.83 L2049.04 1316.83 L2049.04 1320.14 L2042.02 1320.14 L2042.02 1342.76 L2037.74 1342.76 L2037.74 1320.14 L2033.67 1320.14 L2033.67 1316.83 L2037.74 1316.83 L2037.74 1315.02 Q2037.74 1310.7 2039.76 1308.73 Q2041.77 1306.74 2046.14 1306.74 L2050.17 1306.74 Z\" fill=\"#000000\" fill-rule=\"nonzero\" fill-opacity=\"1\" /><path clip-path=\"url(#clip460)\" d=\"M2068.99 1308.2 L2073.67 1308.2 L2073.67 1342.76 L2068.99 1342.76 L2068.99 1308.2 Z\" fill=\"#000000\" fill-rule=\"nonzero\" fill-opacity=\"1\" /><path clip-path=\"url(#clip460)\" d=\"M2104.34 1327.11 L2104.34 1342.76 L2100.08 1342.76 L2100.08 1327.25 Q2100.08 1323.57 2098.64 1321.74 Q2097.21 1319.91 2094.34 1319.91 Q2090.89 1319.91 2088.9 1322.11 Q2086.91 1324.31 2086.91 1328.1 L2086.91 1342.76 L2082.63 1342.76 L2082.63 1316.83 L2086.91 1316.83 L2086.91 1320.86 Q2088.44 1318.52 2090.5 1317.36 Q2092.58 1316.2 2095.29 1316.2 Q2099.75 1316.2 2102.05 1318.98 Q2104.34 1321.74 2104.34 1327.11 Z\" fill=\"#000000\" fill-rule=\"nonzero\" fill-opacity=\"1\" /><path clip-path=\"url(#clip460)\" d=\"M2117.05 1309.47 L2117.05 1316.83 L2125.82 1316.83 L2125.82 1320.14 L2117.05 1320.14 L2117.05 1334.21 Q2117.05 1337.38 2117.9 1338.29 Q2118.78 1339.19 2121.44 1339.19 L2125.82 1339.19 L2125.82 1342.76 L2121.44 1342.76 Q2116.51 1342.76 2114.64 1340.93 Q2112.76 1339.07 2112.76 1334.21 L2112.76 1320.14 L2109.64 1320.14 L2109.64 1316.83 L2112.76 1316.83 L2112.76 1309.47 L2117.05 1309.47 Z\" fill=\"#000000\" fill-rule=\"nonzero\" fill-opacity=\"1\" /><path clip-path=\"url(#clip460)\" d=\"M2153.6 1328.73 L2153.6 1330.81 L2134.01 1330.81 Q2134.29 1335.21 2136.65 1337.52 Q2139.04 1339.82 2143.27 1339.82 Q2145.73 1339.82 2148.02 1339.21 Q2150.33 1338.61 2152.6 1337.41 L2152.6 1341.44 Q2150.31 1342.41 2147.9 1342.92 Q2145.5 1343.43 2143.02 1343.43 Q2136.81 1343.43 2133.18 1339.82 Q2129.57 1336.2 2129.57 1330.05 Q2129.57 1323.68 2133 1319.95 Q2136.44 1316.2 2142.28 1316.2 Q2147.51 1316.2 2150.54 1319.58 Q2153.6 1322.94 2153.6 1328.73 M2149.34 1327.48 Q2149.29 1323.98 2147.37 1321.9 Q2145.47 1319.82 2142.32 1319.82 Q2138.76 1319.82 2136.61 1321.83 Q2134.48 1323.84 2134.15 1327.5 L2149.34 1327.48 Z\" fill=\"#000000\" fill-rule=\"nonzero\" fill-opacity=\"1\" /><path clip-path=\"url(#clip460)\" d=\"M2177.65 1329.49 Q2177.65 1324.86 2175.73 1322.32 Q2173.83 1319.77 2170.38 1319.77 Q2166.95 1319.77 2165.03 1322.32 Q2163.13 1324.86 2163.13 1329.49 Q2163.13 1334.1 2165.03 1336.64 Q2166.95 1339.19 2170.38 1339.19 Q2173.83 1339.19 2175.73 1336.64 Q2177.65 1334.1 2177.65 1329.49 M2181.91 1339.54 Q2181.91 1346.16 2178.97 1349.38 Q2176.03 1352.62 2169.96 1352.62 Q2167.72 1352.62 2165.73 1352.27 Q2163.74 1351.95 2161.86 1351.25 L2161.86 1347.11 Q2163.74 1348.13 2165.56 1348.61 Q2167.39 1349.1 2169.29 1349.1 Q2173.48 1349.1 2175.56 1346.9 Q2177.65 1344.72 2177.65 1340.3 L2177.65 1338.2 Q2176.33 1340.49 2174.27 1341.62 Q2172.21 1342.76 2169.34 1342.76 Q2164.57 1342.76 2161.65 1339.12 Q2158.74 1335.49 2158.74 1329.49 Q2158.74 1323.47 2161.65 1319.84 Q2164.57 1316.2 2169.34 1316.2 Q2172.21 1316.2 2174.27 1317.34 Q2176.33 1318.47 2177.65 1320.76 L2177.65 1316.83 L2181.91 1316.83 L2181.91 1339.54 Z\" fill=\"#000000\" fill-rule=\"nonzero\" fill-opacity=\"1\" /><path clip-path=\"url(#clip460)\" d=\"M2212.86 1328.73 L2212.86 1330.81 L2193.27 1330.81 Q2193.55 1335.21 2195.91 1337.52 Q2198.3 1339.82 2202.53 1339.82 Q2204.99 1339.82 2207.28 1339.21 Q2209.59 1338.61 2211.86 1337.41 L2211.86 1341.44 Q2209.57 1342.41 2207.16 1342.92 Q2204.75 1343.43 2202.28 1343.43 Q2196.07 1343.43 2192.44 1339.82 Q2188.83 1336.2 2188.83 1330.05 Q2188.83 1323.68 2192.25 1319.95 Q2195.7 1316.2 2201.54 1316.2 Q2206.77 1316.2 2209.8 1319.58 Q2212.86 1322.94 2212.86 1328.73 M2208.6 1327.48 Q2208.55 1323.98 2206.63 1321.9 Q2204.73 1319.82 2201.58 1319.82 Q2198.02 1319.82 2195.87 1321.83 Q2193.74 1323.84 2193.41 1327.5 L2208.6 1327.48 Z\" fill=\"#000000\" fill-rule=\"nonzero\" fill-opacity=\"1\" /><path clip-path=\"url(#clip460)\" d=\"M2234.87 1320.81 Q2234.15 1320.39 2233.3 1320.21 Q2232.46 1320 2231.44 1320 Q2227.83 1320 2225.89 1322.36 Q2223.97 1324.7 2223.97 1329.1 L2223.97 1342.76 L2219.68 1342.76 L2219.68 1316.83 L2223.97 1316.83 L2223.97 1320.86 Q2225.31 1318.5 2227.46 1317.36 Q2229.62 1316.2 2232.69 1316.2 Q2233.13 1316.2 2233.67 1316.27 Q2234.2 1316.32 2234.85 1316.44 L2234.87 1320.81 Z\" fill=\"#000000\" fill-rule=\"nonzero\" fill-opacity=\"1\" /><path clip-path=\"url(#clip460)\" d=\"M2255.87 1317.59 L2255.87 1321.62 Q2254.06 1320.7 2252.12 1320.23 Q2250.17 1319.77 2248.09 1319.77 Q2244.92 1319.77 2243.32 1320.74 Q2241.74 1321.71 2241.74 1323.66 Q2241.74 1325.14 2242.88 1326 Q2244.01 1326.83 2247.44 1327.59 L2248.9 1327.92 Q2253.43 1328.89 2255.33 1330.67 Q2257.25 1332.43 2257.25 1335.6 Q2257.25 1339.21 2254.38 1341.32 Q2251.54 1343.43 2246.54 1343.43 Q2244.45 1343.43 2242.18 1343.01 Q2239.94 1342.62 2237.44 1341.81 L2237.44 1337.41 Q2239.8 1338.63 2242.09 1339.26 Q2244.38 1339.86 2246.63 1339.86 Q2249.64 1339.86 2251.26 1338.84 Q2252.88 1337.8 2252.88 1335.93 Q2252.88 1334.19 2251.7 1333.26 Q2250.54 1332.34 2246.58 1331.48 L2245.1 1331.14 Q2241.14 1330.3 2239.38 1328.59 Q2237.62 1326.85 2237.62 1323.84 Q2237.62 1320.19 2240.22 1318.2 Q2242.81 1316.2 2247.58 1316.2 Q2249.94 1316.2 2252.02 1316.55 Q2254.11 1316.9 2255.87 1317.59 Z\" fill=\"#000000\" fill-rule=\"nonzero\" fill-opacity=\"1\" /></svg>\n"
            ]
          },
          "metadata": {},
          "output_type": "display_data"
        }
      ],
      "source": [
        "function square(x)\n",
        "    # compute and return square\n",
        "    x * x\n",
        "end\n",
        "\n",
        "# initialize vectors\n",
        "x = []\n",
        "y = []\n",
        "\n",
        "for j = 1:11, i = -5:5\n",
        "    push!(x,i)\n",
        "    push!(y, square(i))\n",
        "end\n",
        "\n",
        "plot(x, y, label = \"Square of Integers\")\n",
        "xlabel!(\"Integer\")\n",
        "ylabel!(\"Square of Integer\")\n",
        "\n"
      ]
    },
    {
      "cell_type": "markdown",
      "id": "eaca6031-e691-4019-9986-e7127b3df842",
      "metadata": {},
      "source": [
        "## Commit and Push Your Changes to GitHub\n",
        "\n",
        "After completing the previous two exercises, commit your solution file\n",
        "(notebook or otherwise) and push to GitHub. Use an informative commit\n",
        "message which makes it clear what changes you’ve made. The specific\n",
        "workflow for this will vary depending on how you’re writing up your\n",
        "solutions; please search for specifics and ask for help as needed!\n",
        "\n",
        "> **Useful Commit Sizes**\n",
        ">\n",
        "> Ideally, you’d commit whenever you make a “substantial” enough change\n",
        "> that you want to lock in, such as writing the core code for a problem\n",
        "> or completing a problem, if you’re preparing code to be used elsewhere\n",
        "> (by yourself or others), or if you want to ask for help. `git` lets\n",
        "> you revert changes back to a previous commit, so it’s easy to undo\n",
        "> changes or updates which broke something that was previously working,\n",
        "> so changing too many things at once can make it hard to keep track of\n",
        "> what worked when.\n",
        ">\n",
        "> But in this case, go ahead and just commit after finishing the\n",
        "> problems.\n",
        "\n",
        "Push the repository with these commits to GitHub and take a screenshot\n",
        "of the repository page\n",
        "(`https://github.com/BEE4750-FA24/<username>/lab01`) which shows the\n",
        "updated repository. Include that screenshot in your submission as the\n",
        "solution to this problem.\n",
        "\n",
        "## Submitting PDF\n",
        "\n",
        "> **Important**\n",
        ">\n",
        "> These submission instructions will not be repeated on future\n",
        "> assignments!\n",
        "\n",
        "Export your writeup as a PDF and submit it to the “Lab 1” assignment on\n",
        "Gradescope. Make sure that you tag pages corresponding to relevant\n",
        "problems to avoid a 10% penalty.\n",
        "\n",
        "> **Printing Code to PDF**\n",
        ">\n",
        "> You are not required to submit your code when submitting assignments.\n",
        "> However, when printing a notebook to PDF, long lines will run off the\n",
        "> edge of code cells, which may result in comments or code being hidden.\n",
        "> If you see this, go back to the notebook and break up long lines into\n",
        "> shorter onces (for example, see the comment in the above code cell) to\n",
        "> ensure key parts of your results aren’t missing."
      ]
    }
  ],
  "metadata": {
    "kernel_info": {
      "name": "julia"
    },
    "kernelspec": {
      "display_name": "Julia 1.10.4",
      "language": "julia",
      "name": "julia-1.10"
    },
    "language_info": {
      "file_extension": ".jl",
      "mimetype": "application/julia",
      "name": "julia",
      "version": "1.10.4"
    }
  },
  "nbformat": 4,
  "nbformat_minor": 5
}
